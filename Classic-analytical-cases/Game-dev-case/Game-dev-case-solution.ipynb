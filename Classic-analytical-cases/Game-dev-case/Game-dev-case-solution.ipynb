{
 "cells": [
  {
   "cell_type": "code",
   "execution_count": 1,
   "id": "b2c91f3c",
   "metadata": {},
   "outputs": [],
   "source": [
    "import pandas as pd\n",
    "import numpy as np\n",
    "import math"
   ]
  },
  {
   "cell_type": "markdown",
   "id": "08e9ab10",
   "metadata": {},
   "source": [
    "Задание 1 Предложить метрику, описывающую сложность уровней, и рассчитать ее.\n",
    "\n",
    "Задание 2 По результатам предыдущего задания разделить уровни на группы по сложности и сделать вывод о плотности расположения сложных уровней в игре. Задание 3 Рассчитать \"воронку\" прохождения уровней новым пользователем после установки игры. Также мы хотели бы получить от вас комментарий по выполнению тестового задания. Он не должен быть очень большим. Нам интересно было бы узнать:\n",
    "\n",
    "примерную оценку времени, которое вы потратили на выполнение задания;\n",
    "комментарии по сформированной метрике (п1): почему данная метрика будет показательной;\n",
    "возникали ли проблемы при выполнении тестового задания.\n",
    "\n",
    "Входные данные — файл plr_smpl_attempts.csv.gz, содержащий лог событий за определенный промежуток времени по первым 500 уровням в игре. Файл содержит четыре колонки:\n",
    "❏ uid — уникальный id игрока;\n",
    "❏ action — ‘completed’ для успешной попытки прохождения уровня, ‘failed’ для неуспешной;\n",
    "❏ level — уровень, на котором произошло событие;\n",
    "❏ event_time — event_time/1000 является unix timestamp времени получения события."
   ]
  },
  {
   "cell_type": "code",
   "execution_count": 2,
   "id": "4ea24c00",
   "metadata": {},
   "outputs": [
    {
     "data": {
      "text/html": [
       "<div>\n",
       "<style scoped>\n",
       "    .dataframe tbody tr th:only-of-type {\n",
       "        vertical-align: middle;\n",
       "    }\n",
       "\n",
       "    .dataframe tbody tr th {\n",
       "        vertical-align: top;\n",
       "    }\n",
       "\n",
       "    .dataframe thead th {\n",
       "        text-align: right;\n",
       "    }\n",
       "</style>\n",
       "<table border=\"1\" class=\"dataframe\">\n",
       "  <thead>\n",
       "    <tr style=\"text-align: right;\">\n",
       "      <th></th>\n",
       "      <th>uid</th>\n",
       "      <th>action</th>\n",
       "      <th>level</th>\n",
       "      <th>event_time</th>\n",
       "    </tr>\n",
       "  </thead>\n",
       "  <tbody>\n",
       "    <tr>\n",
       "      <th>0</th>\n",
       "      <td>elljQ2EySG03MDU0MTE3MTAyMTE3MA</td>\n",
       "      <td>failed</td>\n",
       "      <td>113</td>\n",
       "      <td>1512086924640</td>\n",
       "    </tr>\n",
       "    <tr>\n",
       "      <th>1</th>\n",
       "      <td>elljQ2EySG03MDU0MTE3MTAyMTE3MA</td>\n",
       "      <td>failed</td>\n",
       "      <td>113</td>\n",
       "      <td>1512086924640</td>\n",
       "    </tr>\n",
       "    <tr>\n",
       "      <th>2</th>\n",
       "      <td>elljQ2EySG03MDU0MTE3MTAyMTE3MA</td>\n",
       "      <td>failed</td>\n",
       "      <td>113</td>\n",
       "      <td>1512086924640</td>\n",
       "    </tr>\n",
       "    <tr>\n",
       "      <th>3</th>\n",
       "      <td>elljQ2EySG03MDU0MTE3MTAyMTE3MA</td>\n",
       "      <td>failed</td>\n",
       "      <td>113</td>\n",
       "      <td>1512086924640</td>\n",
       "    </tr>\n",
       "    <tr>\n",
       "      <th>4</th>\n",
       "      <td>elljQ2EySG03MDU0MTE3MTAyMTE3MA</td>\n",
       "      <td>failed</td>\n",
       "      <td>113</td>\n",
       "      <td>1512086924640</td>\n",
       "    </tr>\n",
       "  </tbody>\n",
       "</table>\n",
       "</div>"
      ],
      "text/plain": [
       "                              uid  action  level     event_time\n",
       "0  elljQ2EySG03MDU0MTE3MTAyMTE3MA  failed    113  1512086924640\n",
       "1  elljQ2EySG03MDU0MTE3MTAyMTE3MA  failed    113  1512086924640\n",
       "2  elljQ2EySG03MDU0MTE3MTAyMTE3MA  failed    113  1512086924640\n",
       "3  elljQ2EySG03MDU0MTE3MTAyMTE3MA  failed    113  1512086924640\n",
       "4  elljQ2EySG03MDU0MTE3MTAyMTE3MA  failed    113  1512086924640"
      ]
     },
     "execution_count": 2,
     "metadata": {},
     "output_type": "execute_result"
    }
   ],
   "source": [
    "df = pd.read_csv(\"C:/Users/Mr0Wo/OneDrive/Рабочий стол/Git_repositories/Data-science-cases/Analytical-cases/Game-dev-case/plr_smpl_attempts.csv.gz\", sep=';')\n",
    "df.head()"
   ]
  },
  {
   "cell_type": "code",
   "execution_count": 3,
   "id": "63165b3c",
   "metadata": {},
   "outputs": [
    {
     "data": {
      "text/plain": [
       "22231214"
      ]
     },
     "execution_count": 3,
     "metadata": {},
     "output_type": "execute_result"
    }
   ],
   "source": [
    "len(df)"
   ]
  },
  {
   "cell_type": "code",
   "execution_count": 4,
   "id": "ae17cafe",
   "metadata": {},
   "outputs": [
    {
     "data": {
      "text/plain": [
       "failed       0.843163\n",
       "completed    0.156837\n",
       "Name: action, dtype: float64"
      ]
     },
     "execution_count": 4,
     "metadata": {},
     "output_type": "execute_result"
    }
   ],
   "source": [
    "df.action.value_counts(normalize=True)"
   ]
  },
  {
   "cell_type": "code",
   "execution_count": 5,
   "id": "2bcfacfe",
   "metadata": {},
   "outputs": [],
   "source": [
    "df['datetime'] = pd.to_datetime(df.event_time, unit='ms')"
   ]
  },
  {
   "cell_type": "code",
   "execution_count": 6,
   "id": "331e818e",
   "metadata": {},
   "outputs": [
    {
     "data": {
      "text/html": [
       "<div>\n",
       "<style scoped>\n",
       "    .dataframe tbody tr th:only-of-type {\n",
       "        vertical-align: middle;\n",
       "    }\n",
       "\n",
       "    .dataframe tbody tr th {\n",
       "        vertical-align: top;\n",
       "    }\n",
       "\n",
       "    .dataframe thead th {\n",
       "        text-align: right;\n",
       "    }\n",
       "</style>\n",
       "<table border=\"1\" class=\"dataframe\">\n",
       "  <thead>\n",
       "    <tr style=\"text-align: right;\">\n",
       "      <th></th>\n",
       "      <th>uid</th>\n",
       "      <th>action</th>\n",
       "      <th>level</th>\n",
       "      <th>event_time</th>\n",
       "      <th>datetime</th>\n",
       "    </tr>\n",
       "  </thead>\n",
       "  <tbody>\n",
       "    <tr>\n",
       "      <th>0</th>\n",
       "      <td>elljQ2EySG03MDU0MTE3MTAyMTE3MA</td>\n",
       "      <td>failed</td>\n",
       "      <td>113</td>\n",
       "      <td>1512086924640</td>\n",
       "      <td>2017-12-01 00:08:44.640</td>\n",
       "    </tr>\n",
       "    <tr>\n",
       "      <th>1</th>\n",
       "      <td>elljQ2EySG03MDU0MTE3MTAyMTE3MA</td>\n",
       "      <td>failed</td>\n",
       "      <td>113</td>\n",
       "      <td>1512086924640</td>\n",
       "      <td>2017-12-01 00:08:44.640</td>\n",
       "    </tr>\n",
       "    <tr>\n",
       "      <th>2</th>\n",
       "      <td>elljQ2EySG03MDU0MTE3MTAyMTE3MA</td>\n",
       "      <td>failed</td>\n",
       "      <td>113</td>\n",
       "      <td>1512086924640</td>\n",
       "      <td>2017-12-01 00:08:44.640</td>\n",
       "    </tr>\n",
       "    <tr>\n",
       "      <th>3</th>\n",
       "      <td>elljQ2EySG03MDU0MTE3MTAyMTE3MA</td>\n",
       "      <td>failed</td>\n",
       "      <td>113</td>\n",
       "      <td>1512086924640</td>\n",
       "      <td>2017-12-01 00:08:44.640</td>\n",
       "    </tr>\n",
       "    <tr>\n",
       "      <th>4</th>\n",
       "      <td>elljQ2EySG03MDU0MTE3MTAyMTE3MA</td>\n",
       "      <td>failed</td>\n",
       "      <td>113</td>\n",
       "      <td>1512086924640</td>\n",
       "      <td>2017-12-01 00:08:44.640</td>\n",
       "    </tr>\n",
       "  </tbody>\n",
       "</table>\n",
       "</div>"
      ],
      "text/plain": [
       "                              uid  action  level     event_time  \\\n",
       "0  elljQ2EySG03MDU0MTE3MTAyMTE3MA  failed    113  1512086924640   \n",
       "1  elljQ2EySG03MDU0MTE3MTAyMTE3MA  failed    113  1512086924640   \n",
       "2  elljQ2EySG03MDU0MTE3MTAyMTE3MA  failed    113  1512086924640   \n",
       "3  elljQ2EySG03MDU0MTE3MTAyMTE3MA  failed    113  1512086924640   \n",
       "4  elljQ2EySG03MDU0MTE3MTAyMTE3MA  failed    113  1512086924640   \n",
       "\n",
       "                 datetime  \n",
       "0 2017-12-01 00:08:44.640  \n",
       "1 2017-12-01 00:08:44.640  \n",
       "2 2017-12-01 00:08:44.640  \n",
       "3 2017-12-01 00:08:44.640  \n",
       "4 2017-12-01 00:08:44.640  "
      ]
     },
     "execution_count": 6,
     "metadata": {},
     "output_type": "execute_result"
    }
   ],
   "source": [
    "df.head()"
   ]
  },
  {
   "cell_type": "code",
   "execution_count": 7,
   "id": "53367d02",
   "metadata": {},
   "outputs": [
    {
     "data": {
      "text/html": [
       "<div>\n",
       "<style scoped>\n",
       "    .dataframe tbody tr th:only-of-type {\n",
       "        vertical-align: middle;\n",
       "    }\n",
       "\n",
       "    .dataframe tbody tr th {\n",
       "        vertical-align: top;\n",
       "    }\n",
       "\n",
       "    .dataframe thead th {\n",
       "        text-align: right;\n",
       "    }\n",
       "</style>\n",
       "<table border=\"1\" class=\"dataframe\">\n",
       "  <thead>\n",
       "    <tr style=\"text-align: right;\">\n",
       "      <th>action</th>\n",
       "      <th>completed</th>\n",
       "      <th>failed</th>\n",
       "    </tr>\n",
       "    <tr>\n",
       "      <th>level</th>\n",
       "      <th></th>\n",
       "      <th></th>\n",
       "    </tr>\n",
       "  </thead>\n",
       "  <tbody>\n",
       "    <tr>\n",
       "      <th>1</th>\n",
       "      <td>25140</td>\n",
       "      <td>17</td>\n",
       "    </tr>\n",
       "    <tr>\n",
       "      <th>2</th>\n",
       "      <td>22436</td>\n",
       "      <td>877</td>\n",
       "    </tr>\n",
       "    <tr>\n",
       "      <th>3</th>\n",
       "      <td>21687</td>\n",
       "      <td>1947</td>\n",
       "    </tr>\n",
       "    <tr>\n",
       "      <th>4</th>\n",
       "      <td>21322</td>\n",
       "      <td>314</td>\n",
       "    </tr>\n",
       "    <tr>\n",
       "      <th>5</th>\n",
       "      <td>20769</td>\n",
       "      <td>6423</td>\n",
       "    </tr>\n",
       "    <tr>\n",
       "      <th>...</th>\n",
       "      <td>...</td>\n",
       "      <td>...</td>\n",
       "    </tr>\n",
       "    <tr>\n",
       "      <th>496</th>\n",
       "      <td>419</td>\n",
       "      <td>1643</td>\n",
       "    </tr>\n",
       "    <tr>\n",
       "      <th>497</th>\n",
       "      <td>411</td>\n",
       "      <td>737</td>\n",
       "    </tr>\n",
       "    <tr>\n",
       "      <th>498</th>\n",
       "      <td>400</td>\n",
       "      <td>2009</td>\n",
       "    </tr>\n",
       "    <tr>\n",
       "      <th>499</th>\n",
       "      <td>407</td>\n",
       "      <td>1017</td>\n",
       "    </tr>\n",
       "    <tr>\n",
       "      <th>500</th>\n",
       "      <td>390</td>\n",
       "      <td>3136</td>\n",
       "    </tr>\n",
       "  </tbody>\n",
       "</table>\n",
       "<p>500 rows × 2 columns</p>\n",
       "</div>"
      ],
      "text/plain": [
       "action  completed  failed\n",
       "level                    \n",
       "1           25140      17\n",
       "2           22436     877\n",
       "3           21687    1947\n",
       "4           21322     314\n",
       "5           20769    6423\n",
       "...           ...     ...\n",
       "496           419    1643\n",
       "497           411     737\n",
       "498           400    2009\n",
       "499           407    1017\n",
       "500           390    3136\n",
       "\n",
       "[500 rows x 2 columns]"
      ]
     },
     "execution_count": 7,
     "metadata": {},
     "output_type": "execute_result"
    }
   ],
   "source": [
    "level_success_rate = df.pivot_table(index='level', columns='action', values='uid', aggfunc='count')\n",
    "level_success_rate"
   ]
  },
  {
   "cell_type": "code",
   "execution_count": 8,
   "id": "ef22ff25",
   "metadata": {},
   "outputs": [],
   "source": [
    "level_success_rate['success_rate'] = np.round(level_success_rate['completed'] / (level_success_rate['completed'] + level_success_rate['failed']),2)"
   ]
  },
  {
   "cell_type": "code",
   "execution_count": 9,
   "id": "ac1ddf67",
   "metadata": {},
   "outputs": [],
   "source": [
    "level_success_rate = level_success_rate.reset_index()"
   ]
  },
  {
   "cell_type": "code",
   "execution_count": 10,
   "id": "08c46948",
   "metadata": {},
   "outputs": [],
   "source": [
    "df['action'] = df['action'].map({'completed':1, 'failed':0})"
   ]
  },
  {
   "cell_type": "code",
   "execution_count": 11,
   "id": "140c427e",
   "metadata": {},
   "outputs": [],
   "source": [
    "one_try_users = df.groupby(['level', 'uid'])['action'] \\\n",
    "                        .apply(list) \\\n",
    "                        .apply(math.prod) \\\n",
    "                        .reset_index() \\\n",
    "                        .groupby('level')['action'] \\\n",
    "                        .sum() \\\n",
    "                        .reset_index() \\\n",
    "                        .rename(columns={'action' : 'one_try_users'})"
   ]
  },
  {
   "cell_type": "code",
   "execution_count": 12,
   "id": "e04ca650",
   "metadata": {},
   "outputs": [],
   "source": [
    "level_users_count = df.groupby('level')['uid'].nunique().reset_index()"
   ]
  },
  {
   "cell_type": "code",
   "execution_count": 13,
   "id": "2992f744",
   "metadata": {},
   "outputs": [],
   "source": [
    "one_try_users = one_try_users.merge(level_users_count)"
   ]
  },
  {
   "cell_type": "code",
   "execution_count": 14,
   "id": "cf46aa0d",
   "metadata": {},
   "outputs": [
    {
     "data": {
      "text/html": [
       "<div>\n",
       "<style scoped>\n",
       "    .dataframe tbody tr th:only-of-type {\n",
       "        vertical-align: middle;\n",
       "    }\n",
       "\n",
       "    .dataframe tbody tr th {\n",
       "        vertical-align: top;\n",
       "    }\n",
       "\n",
       "    .dataframe thead th {\n",
       "        text-align: right;\n",
       "    }\n",
       "</style>\n",
       "<table border=\"1\" class=\"dataframe\">\n",
       "  <thead>\n",
       "    <tr style=\"text-align: right;\">\n",
       "      <th></th>\n",
       "      <th>level</th>\n",
       "      <th>one_try_users</th>\n",
       "      <th>uid</th>\n",
       "      <th>%_of_one_try_users</th>\n",
       "    </tr>\n",
       "  </thead>\n",
       "  <tbody>\n",
       "    <tr>\n",
       "      <th>0</th>\n",
       "      <td>1</td>\n",
       "      <td>24151</td>\n",
       "      <td>24162</td>\n",
       "      <td>1.00</td>\n",
       "    </tr>\n",
       "    <tr>\n",
       "      <th>1</th>\n",
       "      <td>2</td>\n",
       "      <td>21505</td>\n",
       "      <td>22177</td>\n",
       "      <td>0.97</td>\n",
       "    </tr>\n",
       "    <tr>\n",
       "      <th>2</th>\n",
       "      <td>3</td>\n",
       "      <td>19818</td>\n",
       "      <td>21415</td>\n",
       "      <td>0.93</td>\n",
       "    </tr>\n",
       "    <tr>\n",
       "      <th>3</th>\n",
       "      <td>4</td>\n",
       "      <td>20674</td>\n",
       "      <td>20916</td>\n",
       "      <td>0.99</td>\n",
       "    </tr>\n",
       "    <tr>\n",
       "      <th>4</th>\n",
       "      <td>5</td>\n",
       "      <td>16254</td>\n",
       "      <td>20625</td>\n",
       "      <td>0.79</td>\n",
       "    </tr>\n",
       "  </tbody>\n",
       "</table>\n",
       "</div>"
      ],
      "text/plain": [
       "   level  one_try_users    uid  %_of_one_try_users\n",
       "0      1          24151  24162                1.00\n",
       "1      2          21505  22177                0.97\n",
       "2      3          19818  21415                0.93\n",
       "3      4          20674  20916                0.99\n",
       "4      5          16254  20625                0.79"
      ]
     },
     "execution_count": 14,
     "metadata": {},
     "output_type": "execute_result"
    }
   ],
   "source": [
    "one_try_users['%_of_one_try_users'] = np.round(one_try_users['one_try_users'] / one_try_users['uid'],2)\n",
    "one_try_users.head()"
   ]
  },
  {
   "cell_type": "code",
   "execution_count": 15,
   "id": "97fe250e",
   "metadata": {},
   "outputs": [
    {
     "data": {
      "text/plain": [
       "196088"
      ]
     },
     "execution_count": 15,
     "metadata": {},
     "output_type": "execute_result"
    }
   ],
   "source": [
    "df['uid'].nunique()"
   ]
  },
  {
   "cell_type": "code",
   "execution_count": 16,
   "id": "4994bcf4",
   "metadata": {},
   "outputs": [
    {
     "data": {
      "text/plain": [
       "level\n",
       "1      24162\n",
       "2      22177\n",
       "3      21415\n",
       "4      20916\n",
       "5      20625\n",
       "       ...  \n",
       "496      433\n",
       "497      408\n",
       "498      412\n",
       "499      407\n",
       "500      429\n",
       "Name: uid, Length: 500, dtype: int64"
      ]
     },
     "execution_count": 16,
     "metadata": {},
     "output_type": "execute_result"
    }
   ],
   "source": [
    "df.groupby('level')['uid'].nunique()"
   ]
  },
  {
   "cell_type": "code",
   "execution_count": 17,
   "id": "5a250d88",
   "metadata": {},
   "outputs": [
    {
     "data": {
      "text/plain": [
       "level\n",
       "1      25157\n",
       "2      23313\n",
       "3      23634\n",
       "4      21636\n",
       "5      27192\n",
       "       ...  \n",
       "496     2062\n",
       "497     1148\n",
       "498     2409\n",
       "499     1424\n",
       "500     3526\n",
       "Name: action, Length: 500, dtype: int64"
      ]
     },
     "execution_count": 17,
     "metadata": {},
     "output_type": "execute_result"
    }
   ],
   "source": [
    "df.groupby('level')['action'].apply(list).str.len()"
   ]
  },
  {
   "cell_type": "code",
   "execution_count": 18,
   "id": "9739023a",
   "metadata": {},
   "outputs": [],
   "source": [
    "nunique_uid = df.groupby('level')['uid'].nunique().reset_index()"
   ]
  },
  {
   "cell_type": "code",
   "execution_count": 19,
   "id": "dfe2f8bf",
   "metadata": {},
   "outputs": [],
   "source": [
    "nunique_uid.rename(columns={'uid':'nunique_uid'},inplace=True)"
   ]
  },
  {
   "cell_type": "code",
   "execution_count": 20,
   "id": "f77f89f4",
   "metadata": {},
   "outputs": [
    {
     "data": {
      "text/plain": [
       "<Axes: xlabel='level'>"
      ]
     },
     "execution_count": 20,
     "metadata": {},
     "output_type": "execute_result"
    },
    {
     "data": {
      "image/png": "[encoded data removed]",
      "text/plain": [
       "<Figure size 640x480 with 1 Axes>"
      ]
     },
     "metadata": {},
     "output_type": "display_data"
    }
   ],
   "source": [
    "df.groupby('level')['uid'].nunique().plot()"
   ]
  },
  {
   "cell_type": "markdown",
   "id": "66a1db66",
   "metadata": {},
   "source": [
    "## Метрики:\n",
    "### 1. success_rate = completed / (completed + failed)\n",
    "### 2. %_of_one_try_users = игроки прошедшие уровень с 1 попытки / кол-во всех игроков, которые совершили какое-либо action на уровне\n",
    "### 3. Кол-во уникальных пользователей на уровне "
   ]
  },
  {
   "cell_type": "code",
   "execution_count": 21,
   "id": "0e3fed07",
   "metadata": {},
   "outputs": [],
   "source": [
    "metrics = pd.DataFrame(list(range(1,501))).rename(columns={0:'level'})"
   ]
  },
  {
   "cell_type": "code",
   "execution_count": 22,
   "id": "46c74da9",
   "metadata": {},
   "outputs": [],
   "source": [
    "metrics = metrics.merge(one_try_users[['level', '%_of_one_try_users']])"
   ]
  },
  {
   "cell_type": "code",
   "execution_count": 23,
   "id": "c58f712a",
   "metadata": {},
   "outputs": [],
   "source": [
    "metrics = metrics.merge(level_success_rate[['level', 'success_rate']])"
   ]
  },
  {
   "cell_type": "code",
   "execution_count": 24,
   "id": "ca31de5b",
   "metadata": {},
   "outputs": [],
   "source": [
    "metrics = metrics.merge(nunique_uid)"
   ]
  },
  {
   "cell_type": "code",
   "execution_count": 25,
   "id": "870c7fe8",
   "metadata": {},
   "outputs": [
    {
     "data": {
      "text/html": [
       "<div>\n",
       "<style scoped>\n",
       "    .dataframe tbody tr th:only-of-type {\n",
       "        vertical-align: middle;\n",
       "    }\n",
       "\n",
       "    .dataframe tbody tr th {\n",
       "        vertical-align: top;\n",
       "    }\n",
       "\n",
       "    .dataframe thead th {\n",
       "        text-align: right;\n",
       "    }\n",
       "</style>\n",
       "<table border=\"1\" class=\"dataframe\">\n",
       "  <thead>\n",
       "    <tr style=\"text-align: right;\">\n",
       "      <th></th>\n",
       "      <th>level</th>\n",
       "      <th>%_of_one_try_users</th>\n",
       "      <th>success_rate</th>\n",
       "      <th>nunique_uid</th>\n",
       "    </tr>\n",
       "  </thead>\n",
       "  <tbody>\n",
       "    <tr>\n",
       "      <th>0</th>\n",
       "      <td>1</td>\n",
       "      <td>1.00</td>\n",
       "      <td>1.00</td>\n",
       "      <td>24162</td>\n",
       "    </tr>\n",
       "    <tr>\n",
       "      <th>1</th>\n",
       "      <td>2</td>\n",
       "      <td>0.97</td>\n",
       "      <td>0.96</td>\n",
       "      <td>22177</td>\n",
       "    </tr>\n",
       "    <tr>\n",
       "      <th>2</th>\n",
       "      <td>3</td>\n",
       "      <td>0.93</td>\n",
       "      <td>0.92</td>\n",
       "      <td>21415</td>\n",
       "    </tr>\n",
       "    <tr>\n",
       "      <th>3</th>\n",
       "      <td>4</td>\n",
       "      <td>0.99</td>\n",
       "      <td>0.99</td>\n",
       "      <td>20916</td>\n",
       "    </tr>\n",
       "    <tr>\n",
       "      <th>4</th>\n",
       "      <td>5</td>\n",
       "      <td>0.79</td>\n",
       "      <td>0.76</td>\n",
       "      <td>20625</td>\n",
       "    </tr>\n",
       "    <tr>\n",
       "      <th>...</th>\n",
       "      <td>...</td>\n",
       "      <td>...</td>\n",
       "      <td>...</td>\n",
       "      <td>...</td>\n",
       "    </tr>\n",
       "    <tr>\n",
       "      <th>495</th>\n",
       "      <td>496</td>\n",
       "      <td>0.19</td>\n",
       "      <td>0.20</td>\n",
       "      <td>433</td>\n",
       "    </tr>\n",
       "    <tr>\n",
       "      <th>496</th>\n",
       "      <td>497</td>\n",
       "      <td>0.36</td>\n",
       "      <td>0.36</td>\n",
       "      <td>408</td>\n",
       "    </tr>\n",
       "    <tr>\n",
       "      <th>497</th>\n",
       "      <td>498</td>\n",
       "      <td>0.20</td>\n",
       "      <td>0.17</td>\n",
       "      <td>412</td>\n",
       "    </tr>\n",
       "    <tr>\n",
       "      <th>498</th>\n",
       "      <td>499</td>\n",
       "      <td>0.29</td>\n",
       "      <td>0.29</td>\n",
       "      <td>407</td>\n",
       "    </tr>\n",
       "    <tr>\n",
       "      <th>499</th>\n",
       "      <td>500</td>\n",
       "      <td>0.15</td>\n",
       "      <td>0.11</td>\n",
       "      <td>429</td>\n",
       "    </tr>\n",
       "  </tbody>\n",
       "</table>\n",
       "<p>500 rows × 4 columns</p>\n",
       "</div>"
      ],
      "text/plain": [
       "     level  %_of_one_try_users  success_rate  nunique_uid\n",
       "0        1                1.00          1.00        24162\n",
       "1        2                0.97          0.96        22177\n",
       "2        3                0.93          0.92        21415\n",
       "3        4                0.99          0.99        20916\n",
       "4        5                0.79          0.76        20625\n",
       "..     ...                 ...           ...          ...\n",
       "495    496                0.19          0.20          433\n",
       "496    497                0.36          0.36          408\n",
       "497    498                0.20          0.17          412\n",
       "498    499                0.29          0.29          407\n",
       "499    500                0.15          0.11          429\n",
       "\n",
       "[500 rows x 4 columns]"
      ]
     },
     "execution_count": 25,
     "metadata": {},
     "output_type": "execute_result"
    }
   ],
   "source": [
    "metrics"
   ]
  },
  {
   "cell_type": "markdown",
   "id": "2923e589",
   "metadata": {},
   "source": [
    "# Задание 2\n"
   ]
  },
  {
   "cell_type": "code",
   "execution_count": 26,
   "id": "9de3a3e2",
   "metadata": {},
   "outputs": [
    {
     "data": {
      "text/plain": [
       "<Axes: >"
      ]
     },
     "execution_count": 26,
     "metadata": {},
     "output_type": "execute_result"
    },
    {
     "data": {
      "image/png": "[encoded data removed]",
      "text/plain": [
       "<Figure size 640x480 with 1 Axes>"
      ]
     },
     "metadata": {},
     "output_type": "display_data"
    }
   ],
   "source": [
    "metrics['success_rate'].hist()"
   ]
  },
  {
   "cell_type": "code",
   "execution_count": 27,
   "id": "99cb8428",
   "metadata": {},
   "outputs": [
    {
     "data": {
      "text/plain": [
       "<Axes: >"
      ]
     },
     "execution_count": 27,
     "metadata": {},
     "output_type": "execute_result"
    },
    {
     "data": {
      "image/png": "[encoded data removed]",
      "text/plain": [
       "<Figure size 640x480 with 1 Axes>"
      ]
     },
     "metadata": {},
     "output_type": "display_data"
    }
   ],
   "source": [
    "metrics['success_rate'].plot()"
   ]
  },
  {
   "cell_type": "code",
   "execution_count": 28,
   "id": "3690d51f",
   "metadata": {},
   "outputs": [
    {
     "data": {
      "text/plain": [
       "<Axes: >"
      ]
     },
     "execution_count": 28,
     "metadata": {},
     "output_type": "execute_result"
    },
    {
     "data": {
      "image/png": "[encoded data removed]",
      "text/plain": [
       "<Figure size 640x480 with 1 Axes>"
      ]
     },
     "metadata": {},
     "output_type": "display_data"
    }
   ],
   "source": [
    "metrics['%_of_one_try_users'].hist()"
   ]
  },
  {
   "cell_type": "code",
   "execution_count": 29,
   "id": "a935ec9c",
   "metadata": {},
   "outputs": [
    {
     "data": {
      "text/plain": [
       "<Axes: >"
      ]
     },
     "execution_count": 29,
     "metadata": {},
     "output_type": "execute_result"
    },
    {
     "data": {
      "image/png": "[encoded data removed]",
      "text/plain": [
       "<Figure size 640x480 with 1 Axes>"
      ]
     },
     "metadata": {},
     "output_type": "display_data"
    }
   ],
   "source": [
    "metrics['%_of_one_try_users'].plot()"
   ]
  },
  {
   "cell_type": "code",
   "execution_count": 30,
   "id": "79481483",
   "metadata": {},
   "outputs": [],
   "source": [
    "metrics['success_rate_complexity'] =   np.where(metrics['success_rate']<=0.2, 3,\n",
    "                                       np.where(((metrics['success_rate']<=0.4) & (metrics['success_rate']>0.2)),2,\n",
    "                                       np.where(metrics['success_rate']>0.4,1,0)))"
   ]
  },
  {
   "cell_type": "code",
   "execution_count": 31,
   "id": "e7924b01",
   "metadata": {},
   "outputs": [],
   "source": [
    "metrics['%_of_one_try_users_complexity'] =   np.where(metrics['%_of_one_try_users']<=0.2, 3,\n",
    "                                       np.where(((metrics['%_of_one_try_users']<=0.4) & (metrics['success_rate']>0.2)),2,\n",
    "                                       np.where(metrics['%_of_one_try_users']>0.4,1,4)))"
   ]
  },
  {
   "cell_type": "code",
   "execution_count": 55,
   "id": "2ebfab56",
   "metadata": {},
   "outputs": [
    {
     "data": {
      "text/html": [
       "<div>\n",
       "<style scoped>\n",
       "    .dataframe tbody tr th:only-of-type {\n",
       "        vertical-align: middle;\n",
       "    }\n",
       "\n",
       "    .dataframe tbody tr th {\n",
       "        vertical-align: top;\n",
       "    }\n",
       "\n",
       "    .dataframe thead th {\n",
       "        text-align: right;\n",
       "    }\n",
       "</style>\n",
       "<table border=\"1\" class=\"dataframe\">\n",
       "  <thead>\n",
       "    <tr style=\"text-align: right;\">\n",
       "      <th></th>\n",
       "      <th>level</th>\n",
       "      <th>%_of_one_try_users</th>\n",
       "      <th>success_rate</th>\n",
       "      <th>nunique_uid</th>\n",
       "      <th>success_rate_complexity</th>\n",
       "      <th>%_of_one_try_users_complexity</th>\n",
       "    </tr>\n",
       "  </thead>\n",
       "  <tbody>\n",
       "    <tr>\n",
       "      <th>34</th>\n",
       "      <td>35</td>\n",
       "      <td>0.22</td>\n",
       "      <td>0.20</td>\n",
       "      <td>15227</td>\n",
       "      <td>3</td>\n",
       "      <td>4</td>\n",
       "    </tr>\n",
       "    <tr>\n",
       "      <th>39</th>\n",
       "      <td>40</td>\n",
       "      <td>0.22</td>\n",
       "      <td>0.19</td>\n",
       "      <td>14952</td>\n",
       "      <td>3</td>\n",
       "      <td>4</td>\n",
       "    </tr>\n",
       "    <tr>\n",
       "      <th>60</th>\n",
       "      <td>61</td>\n",
       "      <td>0.21</td>\n",
       "      <td>0.20</td>\n",
       "      <td>13955</td>\n",
       "      <td>3</td>\n",
       "      <td>4</td>\n",
       "    </tr>\n",
       "    <tr>\n",
       "      <th>64</th>\n",
       "      <td>65</td>\n",
       "      <td>0.22</td>\n",
       "      <td>0.17</td>\n",
       "      <td>15717</td>\n",
       "      <td>3</td>\n",
       "      <td>4</td>\n",
       "    </tr>\n",
       "    <tr>\n",
       "      <th>69</th>\n",
       "      <td>70</td>\n",
       "      <td>0.21</td>\n",
       "      <td>0.20</td>\n",
       "      <td>15242</td>\n",
       "      <td>3</td>\n",
       "      <td>4</td>\n",
       "    </tr>\n",
       "    <tr>\n",
       "      <th>78</th>\n",
       "      <td>79</td>\n",
       "      <td>0.22</td>\n",
       "      <td>0.18</td>\n",
       "      <td>16302</td>\n",
       "      <td>3</td>\n",
       "      <td>4</td>\n",
       "    </tr>\n",
       "    <tr>\n",
       "      <th>92</th>\n",
       "      <td>93</td>\n",
       "      <td>0.21</td>\n",
       "      <td>0.18</td>\n",
       "      <td>16450</td>\n",
       "      <td>3</td>\n",
       "      <td>4</td>\n",
       "    </tr>\n",
       "    <tr>\n",
       "      <th>93</th>\n",
       "      <td>94</td>\n",
       "      <td>0.21</td>\n",
       "      <td>0.19</td>\n",
       "      <td>16699</td>\n",
       "      <td>3</td>\n",
       "      <td>4</td>\n",
       "    </tr>\n",
       "    <tr>\n",
       "      <th>96</th>\n",
       "      <td>97</td>\n",
       "      <td>0.21</td>\n",
       "      <td>0.19</td>\n",
       "      <td>16702</td>\n",
       "      <td>3</td>\n",
       "      <td>4</td>\n",
       "    </tr>\n",
       "    <tr>\n",
       "      <th>113</th>\n",
       "      <td>114</td>\n",
       "      <td>0.31</td>\n",
       "      <td>0.18</td>\n",
       "      <td>16138</td>\n",
       "      <td>3</td>\n",
       "      <td>4</td>\n",
       "    </tr>\n",
       "    <tr>\n",
       "      <th>134</th>\n",
       "      <td>135</td>\n",
       "      <td>0.21</td>\n",
       "      <td>0.19</td>\n",
       "      <td>15278</td>\n",
       "      <td>3</td>\n",
       "      <td>4</td>\n",
       "    </tr>\n",
       "    <tr>\n",
       "      <th>171</th>\n",
       "      <td>172</td>\n",
       "      <td>0.21</td>\n",
       "      <td>0.19</td>\n",
       "      <td>11337</td>\n",
       "      <td>3</td>\n",
       "      <td>4</td>\n",
       "    </tr>\n",
       "    <tr>\n",
       "      <th>196</th>\n",
       "      <td>197</td>\n",
       "      <td>0.25</td>\n",
       "      <td>0.20</td>\n",
       "      <td>8480</td>\n",
       "      <td>3</td>\n",
       "      <td>4</td>\n",
       "    </tr>\n",
       "    <tr>\n",
       "      <th>230</th>\n",
       "      <td>231</td>\n",
       "      <td>0.22</td>\n",
       "      <td>0.16</td>\n",
       "      <td>6681</td>\n",
       "      <td>3</td>\n",
       "      <td>4</td>\n",
       "    </tr>\n",
       "    <tr>\n",
       "      <th>332</th>\n",
       "      <td>333</td>\n",
       "      <td>0.21</td>\n",
       "      <td>0.19</td>\n",
       "      <td>1967</td>\n",
       "      <td>3</td>\n",
       "      <td>4</td>\n",
       "    </tr>\n",
       "    <tr>\n",
       "      <th>490</th>\n",
       "      <td>491</td>\n",
       "      <td>0.21</td>\n",
       "      <td>0.20</td>\n",
       "      <td>475</td>\n",
       "      <td>3</td>\n",
       "      <td>4</td>\n",
       "    </tr>\n",
       "  </tbody>\n",
       "</table>\n",
       "</div>"
      ],
      "text/plain": [
       "     level  %_of_one_try_users  success_rate  nunique_uid  \\\n",
       "34      35                0.22          0.20        15227   \n",
       "39      40                0.22          0.19        14952   \n",
       "60      61                0.21          0.20        13955   \n",
       "64      65                0.22          0.17        15717   \n",
       "69      70                0.21          0.20        15242   \n",
       "78      79                0.22          0.18        16302   \n",
       "92      93                0.21          0.18        16450   \n",
       "93      94                0.21          0.19        16699   \n",
       "96      97                0.21          0.19        16702   \n",
       "113    114                0.31          0.18        16138   \n",
       "134    135                0.21          0.19        15278   \n",
       "171    172                0.21          0.19        11337   \n",
       "196    197                0.25          0.20         8480   \n",
       "230    231                0.22          0.16         6681   \n",
       "332    333                0.21          0.19         1967   \n",
       "490    491                0.21          0.20          475   \n",
       "\n",
       "     success_rate_complexity  %_of_one_try_users_complexity  \n",
       "34                         3                              4  \n",
       "39                         3                              4  \n",
       "60                         3                              4  \n",
       "64                         3                              4  \n",
       "69                         3                              4  \n",
       "78                         3                              4  \n",
       "92                         3                              4  \n",
       "93                         3                              4  \n",
       "96                         3                              4  \n",
       "113                        3                              4  \n",
       "134                        3                              4  \n",
       "171                        3                              4  \n",
       "196                        3                              4  \n",
       "230                        3                              4  \n",
       "332                        3                              4  \n",
       "490                        3                              4  "
      ]
     },
     "execution_count": 55,
     "metadata": {},
     "output_type": "execute_result"
    }
   ],
   "source": [
    "metrics[metrics['%_of_one_try_users_complexity'] == 4]"
   ]
  },
  {
   "cell_type": "code",
   "execution_count": 33,
   "id": "8fc76864",
   "metadata": {},
   "outputs": [
    {
     "data": {
      "text/plain": [
       "<Axes: xlabel='level', ylabel='success_rate_complexity'>"
      ]
     },
     "execution_count": 33,
     "metadata": {},
     "output_type": "execute_result"
    },
    {
     "data": {
      "image/png": "[encoded data removed]",
      "text/plain": [
       "<Figure size 640x480 with 1 Axes>"
      ]
     },
     "metadata": {},
     "output_type": "display_data"
    }
   ],
   "source": [
    "import seaborn as sns\n",
    "sns.histplot(data=metrics, x='level', y='success_rate_complexity')"
   ]
  },
  {
   "cell_type": "code",
   "execution_count": 34,
   "id": "1285dd02",
   "metadata": {},
   "outputs": [
    {
     "data": {
      "text/plain": [
       "<Axes: xlabel='level', ylabel='%_of_one_try_users_complexity'>"
      ]
     },
     "execution_count": 34,
     "metadata": {},
     "output_type": "execute_result"
    },
    {
     "data": {
      "image/png": "[encoded data removed]",
      "text/plain": [
       "<Figure size 640x480 with 1 Axes>"
      ]
     },
     "metadata": {},
     "output_type": "display_data"
    }
   ],
   "source": [
    "sns.histplot(data=metrics, x='level', y='%_of_one_try_users_complexity')"
   ]
  },
  {
   "cell_type": "markdown",
   "id": "c611d081",
   "metadata": {},
   "source": [
    "## Из графиков видно, что в районе уровней 150-250 находится большое скопление сложных уровней"
   ]
  },
  {
   "cell_type": "markdown",
   "id": "8fe5a759",
   "metadata": {},
   "source": [
    "# Задание 3"
   ]
  },
  {
   "cell_type": "code",
   "execution_count": 35,
   "id": "ff17ec58",
   "metadata": {},
   "outputs": [
    {
     "data": {
      "text/plain": [
       "196088"
      ]
     },
     "execution_count": 35,
     "metadata": {},
     "output_type": "execute_result"
    }
   ],
   "source": [
    "df['uid'].nunique()"
   ]
  },
  {
   "cell_type": "code",
   "execution_count": 52,
   "id": "c6b51ed4",
   "metadata": {},
   "outputs": [],
   "source": [
    "t = df.merge(df[df.level == 1]['uid']).groupby('uid')['level'].apply(list).apply(max)"
   ]
  },
  {
   "cell_type": "code",
   "execution_count": 63,
   "id": "e37016a3",
   "metadata": {},
   "outputs": [
    {
     "data": {
      "text/plain": [
       "<Axes: >"
      ]
     },
     "execution_count": 63,
     "metadata": {},
     "output_type": "execute_result"
    },
    {
     "data": {
      "image/png": "[encoded data removed]",
      "text/plain": [
       "<Figure size 640x480 with 1 Axes>"
      ]
     },
     "metadata": {},
     "output_type": "display_data"
    }
   ],
   "source": [
    "t.hist()"
   ]
  },
  {
   "cell_type": "markdown",
   "id": "126f82ca",
   "metadata": {},
   "source": [
    "# Выводы"
   ]
  },
  {
   "cell_type": "markdown",
   "id": "29663cdf",
   "metadata": {},
   "source": [
    "1. Были предложены 2 основые метрики: % успешных прохождений уровня и % игроков, прощедших уровень с первой попытки  \n",
    "\n",
    "success_rate = completed / (completed + failed)\n",
    "\n",
    "%_of_one_try_users = игроки, у которых на уровне нет action = falied / кол-во всех игроков, у которых было какое-либо action на уровне"
   ]
  },
  {
   "cell_type": "markdown",
   "id": "bc8d21ab",
   "metadata": {},
   "source": [
    "2. Было проанализировано распределение уровней по сложностям.   \n",
    "0 - 50: практически нет проблем с прохождением (легкие уровни)    \n",
    "50 - 100: уровни вызывают проблемы, наблюдаются как средние, так и сложные уровни  \n",
    "100 - 250: наблюдаются значительные проблемы с прохождением (сложные уровни)  \n",
    "250 - 500: примерно равнораспределены между средними и сложными уровнями   "
   ]
  },
  {
   "cell_type": "markdown",
   "id": "21f3651c",
   "metadata": {},
   "source": [
    "3. Огромная часть новых пользователей отваливается до 50 уровня, далее так же наблюдается спад после 100 уровня. Оставшиеся игрои распределены примерно равномерно"
   ]
  },
  {
   "cell_type": "code",
   "execution_count": null,
   "id": "46fd95dd",
   "metadata": {},
   "outputs": [],
   "source": []
  }
 ],
 "metadata": {
  "kernelspec": {
   "display_name": "Python 3 (ipykernel)",
   "language": "python",
   "name": "python3"
  },
  "language_info": {
   "codemirror_mode": {
    "name": "ipython",
    "version": 3
   },
   "file_extension": ".py",
   "mimetype": "text/x-python",
   "name": "python",
   "nbconvert_exporter": "python",
   "pygments_lexer": "ipython3",
   "version": "3.10.11"
  }
 },
 "nbformat": 4,
 "nbformat_minor": 5
}
