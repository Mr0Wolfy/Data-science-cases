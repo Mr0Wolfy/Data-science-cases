{
 "cells": [
  {
   "cell_type": "code",
   "execution_count": 24,
   "id": "d28b4713",
   "metadata": {},
   "outputs": [],
   "source": [
    "import numpy as np\n",
    "import pandas as pd\n",
    "import matplotlib.pyplot as plt\n",
    "import seaborn as sns\n",
    "import plotly.graph_objs as go"
   ]
  },
  {
   "cell_type": "code",
   "execution_count": 2,
   "id": "2726c502",
   "metadata": {},
   "outputs": [],
   "source": [
    "df = pd.read_csv(\"C:\\\\Users\\\\Mr0Wo\\\\OneDrive\\\\Рабочий стол\\\\Git_repositories\\\\Data-science-cases\\\\Analytical-cases\\\\Shift+Enter_MTS\\\\DataAnalytic\\\\task2\\\\Task2_dataset.xlsx - intern_sample.csv\")"
   ]
  },
  {
   "cell_type": "markdown",
   "id": "811918a9",
   "metadata": {},
   "source": [
    "# Tasks"
   ]
  },
  {
   "cell_type": "markdown",
   "id": "f9fd690b",
   "metadata": {},
   "source": [
    "1. Какова динамика трат посетителей в ресторанах? Есть ли дни наибольшего спроса?\n",
    "Можно ли проследить тренд? Какой ресторан находится на втором месте по\n",
    "популярности?\n",
    "2. Каково распределение покупателей по возрасту в каждом из ресторанов?\n",
    "3. Как можно визуализировать одновременно 3 параметра: сумму покупок, средний чек\n",
    "и количество покупателей?"
   ]
  },
  {
   "cell_type": "markdown",
   "id": "065fc7cc",
   "metadata": {},
   "source": [
    "## Task 1\n",
    "1. Какова динамика трат посетителей в ресторанах? Есть ли дни наибольшего спроса?\n",
    "Можно ли проследить тренд? Какой ресторан находится на втором месте по\n",
    "популярности?"
   ]
  },
  {
   "cell_type": "code",
   "execution_count": 3,
   "id": "421ffeec",
   "metadata": {},
   "outputs": [
    {
     "data": {
      "text/html": [
       "<div>\n",
       "<style scoped>\n",
       "    .dataframe tbody tr th:only-of-type {\n",
       "        vertical-align: middle;\n",
       "    }\n",
       "\n",
       "    .dataframe tbody tr th {\n",
       "        vertical-align: top;\n",
       "    }\n",
       "\n",
       "    .dataframe thead th {\n",
       "        text-align: right;\n",
       "    }\n",
       "</style>\n",
       "<table border=\"1\" class=\"dataframe\">\n",
       "  <thead>\n",
       "    <tr style=\"text-align: right;\">\n",
       "      <th></th>\n",
       "      <th>client_id</th>\n",
       "      <th>age</th>\n",
       "      <th>business_dt</th>\n",
       "      <th>restaraunt</th>\n",
       "      <th>money_spent_rub</th>\n",
       "    </tr>\n",
       "  </thead>\n",
       "  <tbody>\n",
       "    <tr>\n",
       "      <th>0</th>\n",
       "      <td>6a0c0626b0f63312cd80be53c8d066b1</td>\n",
       "      <td>35-44</td>\n",
       "      <td>2/2/2023</td>\n",
       "      <td>kfc/rostic’s</td>\n",
       "      <td>431</td>\n",
       "    </tr>\n",
       "    <tr>\n",
       "      <th>1</th>\n",
       "      <td>f82ab5238a10eb4513bd7c55e61b71a8</td>\n",
       "      <td>45-54</td>\n",
       "      <td>2/21/2023</td>\n",
       "      <td>kfc/rostic’s</td>\n",
       "      <td>595</td>\n",
       "    </tr>\n",
       "    <tr>\n",
       "      <th>2</th>\n",
       "      <td>c99f0d761664243baa53c2ab001e3e97</td>\n",
       "      <td>25-34</td>\n",
       "      <td>2/17/2023</td>\n",
       "      <td>kfc/rostic’s</td>\n",
       "      <td>874</td>\n",
       "    </tr>\n",
       "    <tr>\n",
       "      <th>3</th>\n",
       "      <td>0aab007224eb05a44502e37fd3ffebe1</td>\n",
       "      <td>18-24</td>\n",
       "      <td>2/5/2023</td>\n",
       "      <td>kfc/rostic’s</td>\n",
       "      <td>1078</td>\n",
       "    </tr>\n",
       "    <tr>\n",
       "      <th>4</th>\n",
       "      <td>e33546ac6db226cac783331372461da0</td>\n",
       "      <td>25-34</td>\n",
       "      <td>2/5/2023</td>\n",
       "      <td>kfc/rostic’s</td>\n",
       "      <td>1350</td>\n",
       "    </tr>\n",
       "  </tbody>\n",
       "</table>\n",
       "</div>"
      ],
      "text/plain": [
       "                          client_id    age business_dt    restaraunt  \\\n",
       "0  6a0c0626b0f63312cd80be53c8d066b1  35-44    2/2/2023  kfc/rostic’s   \n",
       "1  f82ab5238a10eb4513bd7c55e61b71a8  45-54   2/21/2023  kfc/rostic’s   \n",
       "2  c99f0d761664243baa53c2ab001e3e97  25-34   2/17/2023  kfc/rostic’s   \n",
       "3  0aab007224eb05a44502e37fd3ffebe1  18-24    2/5/2023  kfc/rostic’s   \n",
       "4  e33546ac6db226cac783331372461da0  25-34    2/5/2023  kfc/rostic’s   \n",
       "\n",
       "   money_spent_rub  \n",
       "0              431  \n",
       "1              595  \n",
       "2              874  \n",
       "3             1078  \n",
       "4             1350  "
      ]
     },
     "execution_count": 3,
     "metadata": {},
     "output_type": "execute_result"
    }
   ],
   "source": [
    "df.head()"
   ]
  },
  {
   "cell_type": "code",
   "execution_count": 4,
   "id": "3589804b",
   "metadata": {},
   "outputs": [
    {
     "data": {
      "text/plain": [
       "min   2023-02-01\n",
       "max   2023-02-21\n",
       "Name: business_dt, dtype: datetime64[ns]"
      ]
     },
     "execution_count": 4,
     "metadata": {},
     "output_type": "execute_result"
    }
   ],
   "source": [
    "df['business_dt'] = pd.to_datetime(df['business_dt'], format='%m/%d/%Y')\n",
    "df['business_dt'].agg({'min', 'max'})"
   ]
  },
  {
   "cell_type": "markdown",
   "id": "a87e404f",
   "metadata": {},
   "source": [
    "### Динамика трат посетителей в ресторанах по неделям"
   ]
  },
  {
   "cell_type": "code",
   "execution_count": 5,
   "id": "3a12ad92",
   "metadata": {},
   "outputs": [
    {
     "data": {
      "text/plain": [
       "business_dt\n",
       "2023-02-05    4367307\n",
       "2023-02-12    6977306\n",
       "2023-02-19    7461704\n",
       "2023-02-26    2515466\n",
       "Freq: W-SUN, Name: money_spent_rub, dtype: int64"
      ]
     },
     "execution_count": 5,
     "metadata": {},
     "output_type": "execute_result"
    }
   ],
   "source": [
    "df.groupby([pd.Grouper(key='business_dt', freq='W')])['money_spent_rub'].sum()"
   ]
  },
  {
   "cell_type": "code",
   "execution_count": 6,
   "id": "6da97c3f",
   "metadata": {},
   "outputs": [
    {
     "data": {
      "text/plain": [
       "<Axes: xlabel='business_dt'>"
      ]
     },
     "execution_count": 6,
     "metadata": {},
     "output_type": "execute_result"
    },
    {
     "data": {
      "image/png": "[encoded data removed]",
      "text/plain": [
       "<Figure size 640x480 with 1 Axes>"
      ]
     },
     "metadata": {},
     "output_type": "display_data"
    }
   ],
   "source": [
    "df.groupby([pd.Grouper(key='business_dt', freq='W')])['money_spent_rub'].sum().plot()"
   ]
  },
  {
   "cell_type": "markdown",
   "id": "ca662fa7",
   "metadata": {},
   "source": [
    "### Топ ресторанов \n",
    "#### На 2 месте: kfc/rostic’s \t"
   ]
  },
  {
   "cell_type": "code",
   "execution_count": 7,
   "id": "1a4e030e",
   "metadata": {},
   "outputs": [
    {
     "data": {
      "text/plain": [
       "burger king      10350\n",
       "kfc/rostic’s     12745\n",
       "vkusnoitochka    20989\n",
       "Name: restaraunt, dtype: int64"
      ]
     },
     "execution_count": 7,
     "metadata": {},
     "output_type": "execute_result"
    }
   ],
   "source": [
    "# По кол-ву совершенных транзацкий\n",
    "df['restaraunt'].value_counts().sort_values()"
   ]
  },
  {
   "cell_type": "code",
   "execution_count": 8,
   "id": "0293fc2f",
   "metadata": {},
   "outputs": [
    {
     "data": {
      "text/plain": [
       "<Axes: >"
      ]
     },
     "execution_count": 8,
     "metadata": {},
     "output_type": "execute_result"
    },
    {
     "data": {
      "image/png": "[encoded data removed]",
      "text/plain": [
       "<Figure size 640x480 with 1 Axes>"
      ]
     },
     "metadata": {},
     "output_type": "display_data"
    }
   ],
   "source": [
    "df['restaraunt'].value_counts().sort_values().plot.bar()"
   ]
  },
  {
   "cell_type": "code",
   "execution_count": 9,
   "id": "b3e0420c",
   "metadata": {},
   "outputs": [
    {
     "data": {
      "text/plain": [
       "restaraunt\n",
       "burger king       9370\n",
       "kfc/rostic’s     11287\n",
       "vkusnoitochka    18118\n",
       "Name: client_id, dtype: int64"
      ]
     },
     "execution_count": 9,
     "metadata": {},
     "output_type": "execute_result"
    }
   ],
   "source": [
    "# По кол-ву уникальных клиентов\n",
    "df.groupby('restaraunt')['client_id'].nunique()"
   ]
  },
  {
   "cell_type": "code",
   "execution_count": 10,
   "id": "a1e9547a",
   "metadata": {},
   "outputs": [
    {
     "data": {
      "text/plain": [
       "<Axes: xlabel='restaraunt'>"
      ]
     },
     "execution_count": 10,
     "metadata": {},
     "output_type": "execute_result"
    },
    {
     "data": {
      "image/png": "[encoded data removed]",
      "text/plain": [
       "<Figure size 640x480 with 1 Axes>"
      ]
     },
     "metadata": {},
     "output_type": "display_data"
    }
   ],
   "source": [
    "df.groupby('restaraunt')['client_id'].nunique().plot.bar()"
   ]
  },
  {
   "cell_type": "code",
   "execution_count": 11,
   "id": "2d9001a8",
   "metadata": {},
   "outputs": [
    {
     "data": {
      "text/html": [
       "<div>\n",
       "<style scoped>\n",
       "    .dataframe tbody tr th:only-of-type {\n",
       "        vertical-align: middle;\n",
       "    }\n",
       "\n",
       "    .dataframe tbody tr th {\n",
       "        vertical-align: top;\n",
       "    }\n",
       "\n",
       "    .dataframe thead th {\n",
       "        text-align: right;\n",
       "    }\n",
       "</style>\n",
       "<table border=\"1\" class=\"dataframe\">\n",
       "  <thead>\n",
       "    <tr style=\"text-align: right;\">\n",
       "      <th></th>\n",
       "      <th>business_dt</th>\n",
       "      <th>money_spent_rub</th>\n",
       "    </tr>\n",
       "  </thead>\n",
       "  <tbody>\n",
       "    <tr>\n",
       "      <th>0</th>\n",
       "      <td>2023-02-01</td>\n",
       "      <td>618767</td>\n",
       "    </tr>\n",
       "    <tr>\n",
       "      <th>1</th>\n",
       "      <td>2023-02-02</td>\n",
       "      <td>685909</td>\n",
       "    </tr>\n",
       "    <tr>\n",
       "      <th>2</th>\n",
       "      <td>2023-02-03</td>\n",
       "      <td>687264</td>\n",
       "    </tr>\n",
       "    <tr>\n",
       "      <th>3</th>\n",
       "      <td>2023-02-04</td>\n",
       "      <td>895839</td>\n",
       "    </tr>\n",
       "    <tr>\n",
       "      <th>4</th>\n",
       "      <td>2023-02-05</td>\n",
       "      <td>1479528</td>\n",
       "    </tr>\n",
       "    <tr>\n",
       "      <th>5</th>\n",
       "      <td>2023-02-06</td>\n",
       "      <td>1226920</td>\n",
       "    </tr>\n",
       "    <tr>\n",
       "      <th>6</th>\n",
       "      <td>2023-02-07</td>\n",
       "      <td>648655</td>\n",
       "    </tr>\n",
       "    <tr>\n",
       "      <th>7</th>\n",
       "      <td>2023-02-08</td>\n",
       "      <td>720477</td>\n",
       "    </tr>\n",
       "    <tr>\n",
       "      <th>8</th>\n",
       "      <td>2023-02-09</td>\n",
       "      <td>799853</td>\n",
       "    </tr>\n",
       "    <tr>\n",
       "      <th>9</th>\n",
       "      <td>2023-02-10</td>\n",
       "      <td>821815</td>\n",
       "    </tr>\n",
       "    <tr>\n",
       "      <th>10</th>\n",
       "      <td>2023-02-11</td>\n",
       "      <td>1021125</td>\n",
       "    </tr>\n",
       "    <tr>\n",
       "      <th>11</th>\n",
       "      <td>2023-02-12</td>\n",
       "      <td>1738461</td>\n",
       "    </tr>\n",
       "    <tr>\n",
       "      <th>12</th>\n",
       "      <td>2023-02-13</td>\n",
       "      <td>1481442</td>\n",
       "    </tr>\n",
       "    <tr>\n",
       "      <th>13</th>\n",
       "      <td>2023-02-14</td>\n",
       "      <td>821853</td>\n",
       "    </tr>\n",
       "    <tr>\n",
       "      <th>14</th>\n",
       "      <td>2023-02-15</td>\n",
       "      <td>770358</td>\n",
       "    </tr>\n",
       "    <tr>\n",
       "      <th>15</th>\n",
       "      <td>2023-02-16</td>\n",
       "      <td>793264</td>\n",
       "    </tr>\n",
       "    <tr>\n",
       "      <th>16</th>\n",
       "      <td>2023-02-17</td>\n",
       "      <td>806074</td>\n",
       "    </tr>\n",
       "    <tr>\n",
       "      <th>17</th>\n",
       "      <td>2023-02-18</td>\n",
       "      <td>1005228</td>\n",
       "    </tr>\n",
       "    <tr>\n",
       "      <th>18</th>\n",
       "      <td>2023-02-19</td>\n",
       "      <td>1783485</td>\n",
       "    </tr>\n",
       "    <tr>\n",
       "      <th>19</th>\n",
       "      <td>2023-02-20</td>\n",
       "      <td>1596553</td>\n",
       "    </tr>\n",
       "    <tr>\n",
       "      <th>20</th>\n",
       "      <td>2023-02-21</td>\n",
       "      <td>918913</td>\n",
       "    </tr>\n",
       "  </tbody>\n",
       "</table>\n",
       "</div>"
      ],
      "text/plain": [
       "   business_dt  money_spent_rub\n",
       "0   2023-02-01           618767\n",
       "1   2023-02-02           685909\n",
       "2   2023-02-03           687264\n",
       "3   2023-02-04           895839\n",
       "4   2023-02-05          1479528\n",
       "5   2023-02-06          1226920\n",
       "6   2023-02-07           648655\n",
       "7   2023-02-08           720477\n",
       "8   2023-02-09           799853\n",
       "9   2023-02-10           821815\n",
       "10  2023-02-11          1021125\n",
       "11  2023-02-12          1738461\n",
       "12  2023-02-13          1481442\n",
       "13  2023-02-14           821853\n",
       "14  2023-02-15           770358\n",
       "15  2023-02-16           793264\n",
       "16  2023-02-17           806074\n",
       "17  2023-02-18          1005228\n",
       "18  2023-02-19          1783485\n",
       "19  2023-02-20          1596553\n",
       "20  2023-02-21           918913"
      ]
     },
     "execution_count": 11,
     "metadata": {},
     "output_type": "execute_result"
    }
   ],
   "source": [
    "t_1 = df.groupby('business_dt')['money_spent_rub'].agg('sum').reset_index()\n",
    "t_1"
   ]
  },
  {
   "cell_type": "code",
   "execution_count": 12,
   "id": "1c9155d1",
   "metadata": {},
   "outputs": [
    {
     "data": {
      "text/html": [
       "<div>\n",
       "<style scoped>\n",
       "    .dataframe tbody tr th:only-of-type {\n",
       "        vertical-align: middle;\n",
       "    }\n",
       "\n",
       "    .dataframe tbody tr th {\n",
       "        vertical-align: top;\n",
       "    }\n",
       "\n",
       "    .dataframe thead th {\n",
       "        text-align: right;\n",
       "    }\n",
       "</style>\n",
       "<table border=\"1\" class=\"dataframe\">\n",
       "  <thead>\n",
       "    <tr style=\"text-align: right;\">\n",
       "      <th></th>\n",
       "      <th>business_dt</th>\n",
       "      <th>restaraunt</th>\n",
       "      <th>money_spent_rub</th>\n",
       "    </tr>\n",
       "  </thead>\n",
       "  <tbody>\n",
       "    <tr>\n",
       "      <th>0</th>\n",
       "      <td>2023-02-01</td>\n",
       "      <td>burger king</td>\n",
       "      <td>117670</td>\n",
       "    </tr>\n",
       "    <tr>\n",
       "      <th>1</th>\n",
       "      <td>2023-02-01</td>\n",
       "      <td>kfc/rostic’s</td>\n",
       "      <td>213921</td>\n",
       "    </tr>\n",
       "    <tr>\n",
       "      <th>2</th>\n",
       "      <td>2023-02-01</td>\n",
       "      <td>vkusnoitochka</td>\n",
       "      <td>287176</td>\n",
       "    </tr>\n",
       "    <tr>\n",
       "      <th>3</th>\n",
       "      <td>2023-02-02</td>\n",
       "      <td>burger king</td>\n",
       "      <td>134301</td>\n",
       "    </tr>\n",
       "    <tr>\n",
       "      <th>4</th>\n",
       "      <td>2023-02-02</td>\n",
       "      <td>kfc/rostic’s</td>\n",
       "      <td>233261</td>\n",
       "    </tr>\n",
       "    <tr>\n",
       "      <th>...</th>\n",
       "      <td>...</td>\n",
       "      <td>...</td>\n",
       "      <td>...</td>\n",
       "    </tr>\n",
       "    <tr>\n",
       "      <th>58</th>\n",
       "      <td>2023-02-20</td>\n",
       "      <td>kfc/rostic’s</td>\n",
       "      <td>528470</td>\n",
       "    </tr>\n",
       "    <tr>\n",
       "      <th>59</th>\n",
       "      <td>2023-02-20</td>\n",
       "      <td>vkusnoitochka</td>\n",
       "      <td>721733</td>\n",
       "    </tr>\n",
       "    <tr>\n",
       "      <th>60</th>\n",
       "      <td>2023-02-21</td>\n",
       "      <td>burger king</td>\n",
       "      <td>195274</td>\n",
       "    </tr>\n",
       "    <tr>\n",
       "      <th>61</th>\n",
       "      <td>2023-02-21</td>\n",
       "      <td>kfc/rostic’s</td>\n",
       "      <td>309863</td>\n",
       "    </tr>\n",
       "    <tr>\n",
       "      <th>62</th>\n",
       "      <td>2023-02-21</td>\n",
       "      <td>vkusnoitochka</td>\n",
       "      <td>413776</td>\n",
       "    </tr>\n",
       "  </tbody>\n",
       "</table>\n",
       "<p>63 rows × 3 columns</p>\n",
       "</div>"
      ],
      "text/plain": [
       "   business_dt     restaraunt  money_spent_rub\n",
       "0   2023-02-01    burger king           117670\n",
       "1   2023-02-01   kfc/rostic’s           213921\n",
       "2   2023-02-01  vkusnoitochka           287176\n",
       "3   2023-02-02    burger king           134301\n",
       "4   2023-02-02   kfc/rostic’s           233261\n",
       "..         ...            ...              ...\n",
       "58  2023-02-20   kfc/rostic’s           528470\n",
       "59  2023-02-20  vkusnoitochka           721733\n",
       "60  2023-02-21    burger king           195274\n",
       "61  2023-02-21   kfc/rostic’s           309863\n",
       "62  2023-02-21  vkusnoitochka           413776\n",
       "\n",
       "[63 rows x 3 columns]"
      ]
     },
     "execution_count": 12,
     "metadata": {},
     "output_type": "execute_result"
    }
   ],
   "source": [
    "report = df.groupby(['business_dt', 'restaraunt'])['money_spent_rub'].agg('sum').reset_index()\n",
    "report"
   ]
  },
  {
   "cell_type": "code",
   "execution_count": 13,
   "id": "fa357190",
   "metadata": {},
   "outputs": [
    {
     "data": {
      "image/png": "[encoded data removed]",
      "text/plain": [
       "<Figure size 1000x1000 with 4 Axes>"
      ]
     },
     "metadata": {},
     "output_type": "display_data"
    }
   ],
   "source": [
    "fig, axes = plt.subplots(2, 2, figsize=(10, 10), sharey=True)\n",
    "fig.suptitle('FastDashboard_money_spent')\n",
    "\n",
    "\n",
    "sns.lineplot(ax=axes[0,0], x=t_1['business_dt'], y=t_1['money_spent_rub']).set(title='All_money_spent_rub')\n",
    "sns.lineplot(ax=axes[0,1], x=report.loc[report['restaraunt'] == 'burger king']['business_dt'], y=report.loc[report['restaraunt'] == 'burger king']['money_spent_rub']).set(title='bk_money_spent_rub')\n",
    "sns.lineplot(ax=axes[1,0], x=report.loc[report['restaraunt'] == 'kfc/rostic’s']['business_dt'], y=report.loc[report['restaraunt'] == 'kfc/rostic’s']['money_spent_rub']).set(title='kfc_money_spent_rub')\n",
    "sns.lineplot(ax=axes[1,1], x=report.loc[report['restaraunt'] == 'vkusnoitochka']['business_dt'], y=report.loc[report['restaraunt'] == 'vkusnoitochka']['money_spent_rub']).set(title='mac_money_spent_rub')\n",
    "\n",
    "axes[0,0].grid()\n",
    "axes[0,1].grid()\n",
    "axes[1,0].grid()\n",
    "axes[1,1].grid()\n",
    "\n",
    "\n",
    "axes[0,0].tick_params(axis='x', rotation=45)\n",
    "axes[0,1].tick_params(axis='x', rotation=45)\n",
    "axes[1,0].tick_params(axis='x', rotation=45)\n",
    "axes[1,1].tick_params(axis='x', rotation=45)\n",
    "fig.tight_layout(pad=3.0)"
   ]
  },
  {
   "cell_type": "markdown",
   "id": "e4a1156f",
   "metadata": {},
   "source": [
    "## Ответ: "
   ]
  },
  {
   "cell_type": "markdown",
   "id": "7850f7e6",
   "metadata": {},
   "source": [
    "1. Из графиков видно, что динамика траты денег в ресторанах положительная. Под конец месяца прибыль ресторанов увеличилась\n",
    "2. Дни наибольшего спроса - [воскресенье, понедельник]\n",
    "3. Второе место по популярности занимает kfc/rostic’s "
   ]
  },
  {
   "cell_type": "markdown",
   "id": "8c316530",
   "metadata": {},
   "source": [
    "## Task 2"
   ]
  },
  {
   "cell_type": "markdown",
   "id": "74da8b26",
   "metadata": {},
   "source": [
    "2. Каково распределение покупателей по возрасту в каждом из ресторанов?"
   ]
  },
  {
   "cell_type": "code",
   "execution_count": 14,
   "id": "069dc73e",
   "metadata": {
    "scrolled": true
   },
   "outputs": [
    {
     "data": {
      "text/html": [
       "<div>\n",
       "<style scoped>\n",
       "    .dataframe tbody tr th:only-of-type {\n",
       "        vertical-align: middle;\n",
       "    }\n",
       "\n",
       "    .dataframe tbody tr th {\n",
       "        vertical-align: top;\n",
       "    }\n",
       "\n",
       "    .dataframe thead th {\n",
       "        text-align: right;\n",
       "    }\n",
       "</style>\n",
       "<table border=\"1\" class=\"dataframe\">\n",
       "  <thead>\n",
       "    <tr style=\"text-align: right;\">\n",
       "      <th></th>\n",
       "      <th>client_id</th>\n",
       "      <th>age</th>\n",
       "      <th>business_dt</th>\n",
       "      <th>restaraunt</th>\n",
       "      <th>money_spent_rub</th>\n",
       "    </tr>\n",
       "  </thead>\n",
       "  <tbody>\n",
       "    <tr>\n",
       "      <th>0</th>\n",
       "      <td>6a0c0626b0f63312cd80be53c8d066b1</td>\n",
       "      <td>35-44</td>\n",
       "      <td>2023-02-02</td>\n",
       "      <td>kfc/rostic’s</td>\n",
       "      <td>431</td>\n",
       "    </tr>\n",
       "    <tr>\n",
       "      <th>1</th>\n",
       "      <td>f82ab5238a10eb4513bd7c55e61b71a8</td>\n",
       "      <td>45-54</td>\n",
       "      <td>2023-02-21</td>\n",
       "      <td>kfc/rostic’s</td>\n",
       "      <td>595</td>\n",
       "    </tr>\n",
       "    <tr>\n",
       "      <th>2</th>\n",
       "      <td>c99f0d761664243baa53c2ab001e3e97</td>\n",
       "      <td>25-34</td>\n",
       "      <td>2023-02-17</td>\n",
       "      <td>kfc/rostic’s</td>\n",
       "      <td>874</td>\n",
       "    </tr>\n",
       "    <tr>\n",
       "      <th>3</th>\n",
       "      <td>0aab007224eb05a44502e37fd3ffebe1</td>\n",
       "      <td>18-24</td>\n",
       "      <td>2023-02-05</td>\n",
       "      <td>kfc/rostic’s</td>\n",
       "      <td>1078</td>\n",
       "    </tr>\n",
       "    <tr>\n",
       "      <th>4</th>\n",
       "      <td>e33546ac6db226cac783331372461da0</td>\n",
       "      <td>25-34</td>\n",
       "      <td>2023-02-05</td>\n",
       "      <td>kfc/rostic’s</td>\n",
       "      <td>1350</td>\n",
       "    </tr>\n",
       "  </tbody>\n",
       "</table>\n",
       "</div>"
      ],
      "text/plain": [
       "                          client_id    age business_dt    restaraunt  \\\n",
       "0  6a0c0626b0f63312cd80be53c8d066b1  35-44  2023-02-02  kfc/rostic’s   \n",
       "1  f82ab5238a10eb4513bd7c55e61b71a8  45-54  2023-02-21  kfc/rostic’s   \n",
       "2  c99f0d761664243baa53c2ab001e3e97  25-34  2023-02-17  kfc/rostic’s   \n",
       "3  0aab007224eb05a44502e37fd3ffebe1  18-24  2023-02-05  kfc/rostic’s   \n",
       "4  e33546ac6db226cac783331372461da0  25-34  2023-02-05  kfc/rostic’s   \n",
       "\n",
       "   money_spent_rub  \n",
       "0              431  \n",
       "1              595  \n",
       "2              874  \n",
       "3             1078  \n",
       "4             1350  "
      ]
     },
     "execution_count": 14,
     "metadata": {},
     "output_type": "execute_result"
    }
   ],
   "source": [
    "df.head()"
   ]
  },
  {
   "cell_type": "code",
   "execution_count": 15,
   "id": "f4488d03",
   "metadata": {},
   "outputs": [
    {
     "data": {
      "text/html": [
       "<div>\n",
       "<style scoped>\n",
       "    .dataframe tbody tr th:only-of-type {\n",
       "        vertical-align: middle;\n",
       "    }\n",
       "\n",
       "    .dataframe tbody tr th {\n",
       "        vertical-align: top;\n",
       "    }\n",
       "\n",
       "    .dataframe thead th {\n",
       "        text-align: right;\n",
       "    }\n",
       "</style>\n",
       "<table border=\"1\" class=\"dataframe\">\n",
       "  <thead>\n",
       "    <tr style=\"text-align: right;\">\n",
       "      <th></th>\n",
       "      <th>age</th>\n",
       "      <th>count</th>\n",
       "    </tr>\n",
       "  </thead>\n",
       "  <tbody>\n",
       "    <tr>\n",
       "      <th>0</th>\n",
       "      <td>35-44</td>\n",
       "      <td>12186</td>\n",
       "    </tr>\n",
       "    <tr>\n",
       "      <th>1</th>\n",
       "      <td>25-34</td>\n",
       "      <td>10603</td>\n",
       "    </tr>\n",
       "    <tr>\n",
       "      <th>2</th>\n",
       "      <td>45-54</td>\n",
       "      <td>8642</td>\n",
       "    </tr>\n",
       "    <tr>\n",
       "      <th>3</th>\n",
       "      <td>18-24</td>\n",
       "      <td>6424</td>\n",
       "    </tr>\n",
       "    <tr>\n",
       "      <th>4</th>\n",
       "      <td>55-64</td>\n",
       "      <td>4106</td>\n",
       "    </tr>\n",
       "    <tr>\n",
       "      <th>5</th>\n",
       "      <td>65+</td>\n",
       "      <td>2123</td>\n",
       "    </tr>\n",
       "  </tbody>\n",
       "</table>\n",
       "</div>"
      ],
      "text/plain": [
       "     age  count\n",
       "0  35-44  12186\n",
       "1  25-34  10603\n",
       "2  45-54   8642\n",
       "3  18-24   6424\n",
       "4  55-64   4106\n",
       "5    65+   2123"
      ]
     },
     "execution_count": 15,
     "metadata": {},
     "output_type": "execute_result"
    }
   ],
   "source": [
    "t_2 = df['age'].value_counts().reset_index().rename(columns={'age':'count', 'index':'age'})\n",
    "t_2"
   ]
  },
  {
   "cell_type": "code",
   "execution_count": 16,
   "id": "0c5833e5",
   "metadata": {},
   "outputs": [
    {
     "data": {
      "text/html": [
       "<div>\n",
       "<style scoped>\n",
       "    .dataframe tbody tr th:only-of-type {\n",
       "        vertical-align: middle;\n",
       "    }\n",
       "\n",
       "    .dataframe tbody tr th {\n",
       "        vertical-align: top;\n",
       "    }\n",
       "\n",
       "    .dataframe thead th {\n",
       "        text-align: right;\n",
       "    }\n",
       "</style>\n",
       "<table border=\"1\" class=\"dataframe\">\n",
       "  <thead>\n",
       "    <tr style=\"text-align: right;\">\n",
       "      <th></th>\n",
       "      <th>restaraunt</th>\n",
       "      <th>age</th>\n",
       "      <th>count</th>\n",
       "    </tr>\n",
       "  </thead>\n",
       "  <tbody>\n",
       "    <tr>\n",
       "      <th>3</th>\n",
       "      <td>burger king</td>\n",
       "      <td>18-24</td>\n",
       "      <td>1464</td>\n",
       "    </tr>\n",
       "    <tr>\n",
       "      <th>1</th>\n",
       "      <td>burger king</td>\n",
       "      <td>25-34</td>\n",
       "      <td>2715</td>\n",
       "    </tr>\n",
       "    <tr>\n",
       "      <th>0</th>\n",
       "      <td>burger king</td>\n",
       "      <td>35-44</td>\n",
       "      <td>2945</td>\n",
       "    </tr>\n",
       "    <tr>\n",
       "      <th>2</th>\n",
       "      <td>burger king</td>\n",
       "      <td>45-54</td>\n",
       "      <td>1936</td>\n",
       "    </tr>\n",
       "    <tr>\n",
       "      <th>4</th>\n",
       "      <td>burger king</td>\n",
       "      <td>55-64</td>\n",
       "      <td>896</td>\n",
       "    </tr>\n",
       "  </tbody>\n",
       "</table>\n",
       "</div>"
      ],
      "text/plain": [
       "    restaraunt    age  count\n",
       "3  burger king  18-24   1464\n",
       "1  burger king  25-34   2715\n",
       "0  burger king  35-44   2945\n",
       "2  burger king  45-54   1936\n",
       "4  burger king  55-64    896"
      ]
     },
     "execution_count": 16,
     "metadata": {},
     "output_type": "execute_result"
    }
   ],
   "source": [
    "age_distribution = df.groupby('restaraunt')['age'].value_counts().rename('count').reset_index().sort_values(['restaraunt', 'age'])\n",
    "age_distribution.head()"
   ]
  },
  {
   "cell_type": "code",
   "execution_count": 17,
   "id": "6b21829d",
   "metadata": {},
   "outputs": [
    {
     "data": {
      "text/plain": [
       "[Text(0.5, 1.0, 'mac_age_distribution')]"
      ]
     },
     "execution_count": 17,
     "metadata": {},
     "output_type": "execute_result"
    },
    {
     "data": {
      "image/png": "[encoded data removed]",
      "text/plain": [
       "<Figure size 1000x1000 with 4 Axes>"
      ]
     },
     "metadata": {},
     "output_type": "display_data"
    }
   ],
   "source": [
    "fig, axes = plt.subplots(2, 2, figsize=(10, 10), sharey=True)\n",
    "fig.suptitle('FastDashboard_age_distribution')\n",
    "\n",
    "sns.barplot(ax=axes[0,0], x=t_2['age'], y=t_2['count']).set(title='all_age_distribution')\n",
    "sns.barplot(ax=axes[0,1], x=age_distribution.loc[age_distribution['restaraunt'] == 'burger king']['age'], y=age_distribution.loc[age_distribution['restaraunt'] == 'burger king']['count']).set(title='bc_age_distribution')\n",
    "sns.barplot(ax=axes[1,0], x=age_distribution.loc[age_distribution['restaraunt'] == 'kfc/rostic’s']['age'], y=age_distribution.loc[age_distribution['restaraunt'] == 'kfc/rostic’s']['count']).set(title='kfc_age_distribution')\n",
    "sns.barplot(ax=axes[1,1], x=age_distribution.loc[age_distribution['restaraunt'] == 'vkusnoitochka']['age'], y=age_distribution.loc[age_distribution['restaraunt'] == 'vkusnoitochka']['count']).set(title='mac_age_distribution')"
   ]
  },
  {
   "cell_type": "markdown",
   "id": "bc4ef597",
   "metadata": {},
   "source": [
    "## Task 3"
   ]
  },
  {
   "cell_type": "markdown",
   "id": "cc7ae252",
   "metadata": {},
   "source": [
    "3. Как можно визуализировать одновременно 3 параметра: сумму покупок, средний чек\n",
    "и количество покупателей?"
   ]
  },
  {
   "cell_type": "code",
   "execution_count": 18,
   "id": "04f76b1f",
   "metadata": {},
   "outputs": [
    {
     "data": {
      "text/html": [
       "<div>\n",
       "<style scoped>\n",
       "    .dataframe tbody tr th:only-of-type {\n",
       "        vertical-align: middle;\n",
       "    }\n",
       "\n",
       "    .dataframe tbody tr th {\n",
       "        vertical-align: top;\n",
       "    }\n",
       "\n",
       "    .dataframe thead th {\n",
       "        text-align: right;\n",
       "    }\n",
       "</style>\n",
       "<table border=\"1\" class=\"dataframe\">\n",
       "  <thead>\n",
       "    <tr style=\"text-align: right;\">\n",
       "      <th></th>\n",
       "      <th>client_id</th>\n",
       "      <th>age</th>\n",
       "      <th>business_dt</th>\n",
       "      <th>restaraunt</th>\n",
       "      <th>money_spent_rub</th>\n",
       "    </tr>\n",
       "  </thead>\n",
       "  <tbody>\n",
       "    <tr>\n",
       "      <th>0</th>\n",
       "      <td>6a0c0626b0f63312cd80be53c8d066b1</td>\n",
       "      <td>35-44</td>\n",
       "      <td>2023-02-02</td>\n",
       "      <td>kfc/rostic’s</td>\n",
       "      <td>431</td>\n",
       "    </tr>\n",
       "    <tr>\n",
       "      <th>1</th>\n",
       "      <td>f82ab5238a10eb4513bd7c55e61b71a8</td>\n",
       "      <td>45-54</td>\n",
       "      <td>2023-02-21</td>\n",
       "      <td>kfc/rostic’s</td>\n",
       "      <td>595</td>\n",
       "    </tr>\n",
       "    <tr>\n",
       "      <th>2</th>\n",
       "      <td>c99f0d761664243baa53c2ab001e3e97</td>\n",
       "      <td>25-34</td>\n",
       "      <td>2023-02-17</td>\n",
       "      <td>kfc/rostic’s</td>\n",
       "      <td>874</td>\n",
       "    </tr>\n",
       "    <tr>\n",
       "      <th>3</th>\n",
       "      <td>0aab007224eb05a44502e37fd3ffebe1</td>\n",
       "      <td>18-24</td>\n",
       "      <td>2023-02-05</td>\n",
       "      <td>kfc/rostic’s</td>\n",
       "      <td>1078</td>\n",
       "    </tr>\n",
       "    <tr>\n",
       "      <th>4</th>\n",
       "      <td>e33546ac6db226cac783331372461da0</td>\n",
       "      <td>25-34</td>\n",
       "      <td>2023-02-05</td>\n",
       "      <td>kfc/rostic’s</td>\n",
       "      <td>1350</td>\n",
       "    </tr>\n",
       "  </tbody>\n",
       "</table>\n",
       "</div>"
      ],
      "text/plain": [
       "                          client_id    age business_dt    restaraunt  \\\n",
       "0  6a0c0626b0f63312cd80be53c8d066b1  35-44  2023-02-02  kfc/rostic’s   \n",
       "1  f82ab5238a10eb4513bd7c55e61b71a8  45-54  2023-02-21  kfc/rostic’s   \n",
       "2  c99f0d761664243baa53c2ab001e3e97  25-34  2023-02-17  kfc/rostic’s   \n",
       "3  0aab007224eb05a44502e37fd3ffebe1  18-24  2023-02-05  kfc/rostic’s   \n",
       "4  e33546ac6db226cac783331372461da0  25-34  2023-02-05  kfc/rostic’s   \n",
       "\n",
       "   money_spent_rub  \n",
       "0              431  \n",
       "1              595  \n",
       "2              874  \n",
       "3             1078  \n",
       "4             1350  "
      ]
     },
     "execution_count": 18,
     "metadata": {},
     "output_type": "execute_result"
    }
   ],
   "source": [
    "df.head()"
   ]
  },
  {
   "cell_type": "code",
   "execution_count": 49,
   "id": "9436e458",
   "metadata": {},
   "outputs": [],
   "source": [
    "data_for_graph = df.groupby('restaraunt')['client_id'].nunique().reset_index().rename(columns={'client_id':'client_count'})"
   ]
  },
  {
   "cell_type": "code",
   "execution_count": 52,
   "id": "261b7231",
   "metadata": {},
   "outputs": [],
   "source": [
    "data_for_graph = data_for_graph.merge(df.groupby('restaraunt')['money_spent_rub'].mean().reset_index().rename(columns={'money_spent_rub': 'money_spent_rub_mean'}))"
   ]
  },
  {
   "cell_type": "code",
   "execution_count": 58,
   "id": "1f084a9d",
   "metadata": {},
   "outputs": [],
   "source": [
    "data_for_graph = data_for_graph.merge(df.groupby('restaraunt')['money_spent_rub'].sum().reset_index())"
   ]
  },
  {
   "cell_type": "code",
   "execution_count": 60,
   "id": "4b1d8909",
   "metadata": {},
   "outputs": [],
   "source": [
    "data_for_graph['money_spent_rub'] = data_for_graph['money_spent_rub'] / 10**4"
   ]
  },
  {
   "cell_type": "code",
   "execution_count": 61,
   "id": "a12bbfde",
   "metadata": {},
   "outputs": [
    {
     "data": {
      "text/html": [
       "<div>\n",
       "<style scoped>\n",
       "    .dataframe tbody tr th:only-of-type {\n",
       "        vertical-align: middle;\n",
       "    }\n",
       "\n",
       "    .dataframe tbody tr th {\n",
       "        vertical-align: top;\n",
       "    }\n",
       "\n",
       "    .dataframe thead th {\n",
       "        text-align: right;\n",
       "    }\n",
       "</style>\n",
       "<table border=\"1\" class=\"dataframe\">\n",
       "  <thead>\n",
       "    <tr style=\"text-align: right;\">\n",
       "      <th></th>\n",
       "      <th>restaraunt</th>\n",
       "      <th>client_count</th>\n",
       "      <th>money_spent_rub_mean</th>\n",
       "      <th>money_spent_rub</th>\n",
       "    </tr>\n",
       "  </thead>\n",
       "  <tbody>\n",
       "    <tr>\n",
       "      <th>0</th>\n",
       "      <td>burger king</td>\n",
       "      <td>9370</td>\n",
       "      <td>445.707826</td>\n",
       "      <td>461.3076</td>\n",
       "    </tr>\n",
       "    <tr>\n",
       "      <th>1</th>\n",
       "      <td>kfc/rostic’s</td>\n",
       "      <td>11287</td>\n",
       "      <td>537.741703</td>\n",
       "      <td>685.3518</td>\n",
       "    </tr>\n",
       "    <tr>\n",
       "      <th>2</th>\n",
       "      <td>vkusnoitochka</td>\n",
       "      <td>18118</td>\n",
       "      <td>469.540664</td>\n",
       "      <td>985.5189</td>\n",
       "    </tr>\n",
       "  </tbody>\n",
       "</table>\n",
       "</div>"
      ],
      "text/plain": [
       "      restaraunt  client_count  money_spent_rub_mean  money_spent_rub\n",
       "0    burger king          9370            445.707826         461.3076\n",
       "1   kfc/rostic’s         11287            537.741703         685.3518\n",
       "2  vkusnoitochka         18118            469.540664         985.5189"
      ]
     },
     "execution_count": 61,
     "metadata": {},
     "output_type": "execute_result"
    }
   ],
   "source": [
    "data_for_graph"
   ]
  },
  {
   "cell_type": "code",
   "execution_count": 81,
   "id": "2891ba59",
   "metadata": {},
   "outputs": [
    {
     "data": {
      "text/plain": [
       "0    461.3076\n",
       "Name: money_spent_rub, dtype: float64"
      ]
     },
     "execution_count": 81,
     "metadata": {},
     "output_type": "execute_result"
    }
   ],
   "source": [
    "data_for_graph.loc[data_for_graph['restaraunt'] == 'burger king'].iloc[:, 3]"
   ]
  },
  {
   "cell_type": "code",
   "execution_count": 82,
   "id": "03d640f4",
   "metadata": {},
   "outputs": [
    {
     "name": "stdout",
     "output_type": "stream",
     "text": [
      "0    461.3076\n",
      "Name: money_spent_rub, dtype: float64\n"
     ]
    }
   ],
   "source": [
    "names = ['burger king', 'kfc/rostic’s', 'vkusnoitochka']\n",
    "for i in range(1):\n",
    "    print(data_for_graph.loc[data_for_graph['restaraunt'] == names[i]].iloc[:, 3])"
   ]
  },
  {
   "cell_type": "code",
   "execution_count": 84,
   "id": "91d973bc",
   "metadata": {},
   "outputs": [
    {
     "data": {
      "application/vnd.plotly.v1+json": {
       "config": {
        "plotlyServerURL": "https://plot.ly"
       },
       "data": [
        {
         "alphahull": 1,
         "color": "rgba(94, 51, 51, 1)",
         "flatshading": true,
         "lighting": {
          "diffuse": 0.1,
          "roughness": 0.5,
          "specular": 2
         },
         "name": "burger king",
         "type": "mesh3d",
         "x": [
          311.3076,
          311.3076,
          611.3076,
          611.3076,
          311.3076,
          311.3076,
          611.3076,
          611.3076
         ],
         "y": [
          295.7078260869565,
          295.7078260869565,
          295.7078260869565,
          295.7078260869565,
          595.7078260869565,
          595.7078260869565,
          595.7078260869565,
          595.7078260869565
         ],
         "z": [
          9220,
          9520,
          9220,
          9520,
          9220,
          9520,
          9220,
          9520
         ]
        },
        {
         "alphahull": 1,
         "color": "red",
         "flatshading": true,
         "lighting": {
          "diffuse": 0.1,
          "roughness": 0.5,
          "specular": 2
         },
         "name": "kfc/rostic’s",
         "type": "mesh3d",
         "x": [
          535.3518,
          535.3518,
          835.3518,
          835.3518,
          535.3518,
          535.3518,
          835.3518,
          835.3518
         ],
         "y": [
          387.7417026284818,
          387.7417026284818,
          387.7417026284818,
          387.7417026284818,
          687.7417026284818,
          687.7417026284818,
          687.7417026284818,
          687.7417026284818
         ],
         "z": [
          11137,
          11437,
          11137,
          11437,
          11137,
          11437,
          11137,
          11437
         ]
        },
        {
         "alphahull": 1,
         "color": "yellow",
         "flatshading": true,
         "lighting": {
          "diffuse": 0.1,
          "roughness": 0.5,
          "specular": 2
         },
         "name": "vkusnoitochka",
         "type": "mesh3d",
         "x": [
          835.5189,
          835.5189,
          1135.5189,
          1135.5189,
          835.5189,
          835.5189,
          1135.5189,
          1135.5189
         ],
         "y": [
          319.5406641574158,
          319.5406641574158,
          319.5406641574158,
          319.5406641574158,
          619.5406641574158,
          619.5406641574158,
          619.5406641574158,
          619.5406641574158
         ],
         "z": [
          17968,
          18268,
          17968,
          18268,
          17968,
          18268,
          17968,
          18268
         ]
        }
       ],
       "layout": {
        "margin": {
         "b": 10,
         "l": 10,
         "r": 20,
         "t": 10
        },
        "scene": {
         "xaxis": {
          "title": {
           "text": "money_spent_rub_sum / 10^4"
          }
         },
         "yaxis": {
          "title": {
           "text": "money_spent_rub_mean"
          }
         },
         "zaxis": {
          "title": {
           "text": "client count"
          }
         }
        },
        "template": {
         "data": {
          "bar": [
           {
            "error_x": {
             "color": "#2a3f5f"
            },
            "error_y": {
             "color": "#2a3f5f"
            },
            "marker": {
             "line": {
              "color": "#E5ECF6",
              "width": 0.5
             },
             "pattern": {
              "fillmode": "overlay",
              "size": 10,
              "solidity": 0.2
             }
            },
            "type": "bar"
           }
          ],
          "barpolar": [
           {
            "marker": {
             "line": {
              "color": "#E5ECF6",
              "width": 0.5
             },
             "pattern": {
              "fillmode": "overlay",
              "size": 10,
              "solidity": 0.2
             }
            },
            "type": "barpolar"
           }
          ],
          "carpet": [
           {
            "aaxis": {
             "endlinecolor": "#2a3f5f",
             "gridcolor": "white",
             "linecolor": "white",
             "minorgridcolor": "white",
             "startlinecolor": "#2a3f5f"
            },
            "baxis": {
             "endlinecolor": "#2a3f5f",
             "gridcolor": "white",
             "linecolor": "white",
             "minorgridcolor": "white",
             "startlinecolor": "#2a3f5f"
            },
            "type": "carpet"
           }
          ],
          "choropleth": [
           {
            "colorbar": {
             "outlinewidth": 0,
             "ticks": ""
            },
            "type": "choropleth"
           }
          ],
          "contour": [
           {
            "colorbar": {
             "outlinewidth": 0,
             "ticks": ""
            },
            "colorscale": [
             [
              0,
              "#0d0887"
             ],
             [
              0.1111111111111111,
              "#46039f"
             ],
             [
              0.2222222222222222,
              "#7201a8"
             ],
             [
              0.3333333333333333,
              "#9c179e"
             ],
             [
              0.4444444444444444,
              "#bd3786"
             ],
             [
              0.5555555555555556,
              "#d8576b"
             ],
             [
              0.6666666666666666,
              "#ed7953"
             ],
             [
              0.7777777777777778,
              "#fb9f3a"
             ],
             [
              0.8888888888888888,
              "#fdca26"
             ],
             [
              1,
              "#f0f921"
             ]
            ],
            "type": "contour"
           }
          ],
          "contourcarpet": [
           {
            "colorbar": {
             "outlinewidth": 0,
             "ticks": ""
            },
            "type": "contourcarpet"
           }
          ],
          "heatmap": [
           {
            "colorbar": {
             "outlinewidth": 0,
             "ticks": ""
            },
            "colorscale": [
             [
              0,
              "#0d0887"
             ],
             [
              0.1111111111111111,
              "#46039f"
             ],
             [
              0.2222222222222222,
              "#7201a8"
             ],
             [
              0.3333333333333333,
              "#9c179e"
             ],
             [
              0.4444444444444444,
              "#bd3786"
             ],
             [
              0.5555555555555556,
              "#d8576b"
             ],
             [
              0.6666666666666666,
              "#ed7953"
             ],
             [
              0.7777777777777778,
              "#fb9f3a"
             ],
             [
              0.8888888888888888,
              "#fdca26"
             ],
             [
              1,
              "#f0f921"
             ]
            ],
            "type": "heatmap"
           }
          ],
          "heatmapgl": [
           {
            "colorbar": {
             "outlinewidth": 0,
             "ticks": ""
            },
            "colorscale": [
             [
              0,
              "#0d0887"
             ],
             [
              0.1111111111111111,
              "#46039f"
             ],
             [
              0.2222222222222222,
              "#7201a8"
             ],
             [
              0.3333333333333333,
              "#9c179e"
             ],
             [
              0.4444444444444444,
              "#bd3786"
             ],
             [
              0.5555555555555556,
              "#d8576b"
             ],
             [
              0.6666666666666666,
              "#ed7953"
             ],
             [
              0.7777777777777778,
              "#fb9f3a"
             ],
             [
              0.8888888888888888,
              "#fdca26"
             ],
             [
              1,
              "#f0f921"
             ]
            ],
            "type": "heatmapgl"
           }
          ],
          "histogram": [
           {
            "marker": {
             "pattern": {
              "fillmode": "overlay",
              "size": 10,
              "solidity": 0.2
             }
            },
            "type": "histogram"
           }
          ],
          "histogram2d": [
           {
            "colorbar": {
             "outlinewidth": 0,
             "ticks": ""
            },
            "colorscale": [
             [
              0,
              "#0d0887"
             ],
             [
              0.1111111111111111,
              "#46039f"
             ],
             [
              0.2222222222222222,
              "#7201a8"
             ],
             [
              0.3333333333333333,
              "#9c179e"
             ],
             [
              0.4444444444444444,
              "#bd3786"
             ],
             [
              0.5555555555555556,
              "#d8576b"
             ],
             [
              0.6666666666666666,
              "#ed7953"
             ],
             [
              0.7777777777777778,
              "#fb9f3a"
             ],
             [
              0.8888888888888888,
              "#fdca26"
             ],
             [
              1,
              "#f0f921"
             ]
            ],
            "type": "histogram2d"
           }
          ],
          "histogram2dcontour": [
           {
            "colorbar": {
             "outlinewidth": 0,
             "ticks": ""
            },
            "colorscale": [
             [
              0,
              "#0d0887"
             ],
             [
              0.1111111111111111,
              "#46039f"
             ],
             [
              0.2222222222222222,
              "#7201a8"
             ],
             [
              0.3333333333333333,
              "#9c179e"
             ],
             [
              0.4444444444444444,
              "#bd3786"
             ],
             [
              0.5555555555555556,
              "#d8576b"
             ],
             [
              0.6666666666666666,
              "#ed7953"
             ],
             [
              0.7777777777777778,
              "#fb9f3a"
             ],
             [
              0.8888888888888888,
              "#fdca26"
             ],
             [
              1,
              "#f0f921"
             ]
            ],
            "type": "histogram2dcontour"
           }
          ],
          "mesh3d": [
           {
            "colorbar": {
             "outlinewidth": 0,
             "ticks": ""
            },
            "type": "mesh3d"
           }
          ],
          "parcoords": [
           {
            "line": {
             "colorbar": {
              "outlinewidth": 0,
              "ticks": ""
             }
            },
            "type": "parcoords"
           }
          ],
          "pie": [
           {
            "automargin": true,
            "type": "pie"
           }
          ],
          "scatter": [
           {
            "fillpattern": {
             "fillmode": "overlay",
             "size": 10,
             "solidity": 0.2
            },
            "type": "scatter"
           }
          ],
          "scatter3d": [
           {
            "line": {
             "colorbar": {
              "outlinewidth": 0,
              "ticks": ""
             }
            },
            "marker": {
             "colorbar": {
              "outlinewidth": 0,
              "ticks": ""
             }
            },
            "type": "scatter3d"
           }
          ],
          "scattercarpet": [
           {
            "marker": {
             "colorbar": {
              "outlinewidth": 0,
              "ticks": ""
             }
            },
            "type": "scattercarpet"
           }
          ],
          "scattergeo": [
           {
            "marker": {
             "colorbar": {
              "outlinewidth": 0,
              "ticks": ""
             }
            },
            "type": "scattergeo"
           }
          ],
          "scattergl": [
           {
            "marker": {
             "colorbar": {
              "outlinewidth": 0,
              "ticks": ""
             }
            },
            "type": "scattergl"
           }
          ],
          "scattermapbox": [
           {
            "marker": {
             "colorbar": {
              "outlinewidth": 0,
              "ticks": ""
             }
            },
            "type": "scattermapbox"
           }
          ],
          "scatterpolar": [
           {
            "marker": {
             "colorbar": {
              "outlinewidth": 0,
              "ticks": ""
             }
            },
            "type": "scatterpolar"
           }
          ],
          "scatterpolargl": [
           {
            "marker": {
             "colorbar": {
              "outlinewidth": 0,
              "ticks": ""
             }
            },
            "type": "scatterpolargl"
           }
          ],
          "scatterternary": [
           {
            "marker": {
             "colorbar": {
              "outlinewidth": 0,
              "ticks": ""
             }
            },
            "type": "scatterternary"
           }
          ],
          "surface": [
           {
            "colorbar": {
             "outlinewidth": 0,
             "ticks": ""
            },
            "colorscale": [
             [
              0,
              "#0d0887"
             ],
             [
              0.1111111111111111,
              "#46039f"
             ],
             [
              0.2222222222222222,
              "#7201a8"
             ],
             [
              0.3333333333333333,
              "#9c179e"
             ],
             [
              0.4444444444444444,
              "#bd3786"
             ],
             [
              0.5555555555555556,
              "#d8576b"
             ],
             [
              0.6666666666666666,
              "#ed7953"
             ],
             [
              0.7777777777777778,
              "#fb9f3a"
             ],
             [
              0.8888888888888888,
              "#fdca26"
             ],
             [
              1,
              "#f0f921"
             ]
            ],
            "type": "surface"
           }
          ],
          "table": [
           {
            "cells": {
             "fill": {
              "color": "#EBF0F8"
             },
             "line": {
              "color": "white"
             }
            },
            "header": {
             "fill": {
              "color": "#C8D4E3"
             },
             "line": {
              "color": "white"
             }
            },
            "type": "table"
           }
          ]
         },
         "layout": {
          "annotationdefaults": {
           "arrowcolor": "#2a3f5f",
           "arrowhead": 0,
           "arrowwidth": 1
          },
          "autotypenumbers": "strict",
          "coloraxis": {
           "colorbar": {
            "outlinewidth": 0,
            "ticks": ""
           }
          },
          "colorscale": {
           "diverging": [
            [
             0,
             "#8e0152"
            ],
            [
             0.1,
             "#c51b7d"
            ],
            [
             0.2,
             "#de77ae"
            ],
            [
             0.3,
             "#f1b6da"
            ],
            [
             0.4,
             "#fde0ef"
            ],
            [
             0.5,
             "#f7f7f7"
            ],
            [
             0.6,
             "#e6f5d0"
            ],
            [
             0.7,
             "#b8e186"
            ],
            [
             0.8,
             "#7fbc41"
            ],
            [
             0.9,
             "#4d9221"
            ],
            [
             1,
             "#276419"
            ]
           ],
           "sequential": [
            [
             0,
             "#0d0887"
            ],
            [
             0.1111111111111111,
             "#46039f"
            ],
            [
             0.2222222222222222,
             "#7201a8"
            ],
            [
             0.3333333333333333,
             "#9c179e"
            ],
            [
             0.4444444444444444,
             "#bd3786"
            ],
            [
             0.5555555555555556,
             "#d8576b"
            ],
            [
             0.6666666666666666,
             "#ed7953"
            ],
            [
             0.7777777777777778,
             "#fb9f3a"
            ],
            [
             0.8888888888888888,
             "#fdca26"
            ],
            [
             1,
             "#f0f921"
            ]
           ],
           "sequentialminus": [
            [
             0,
             "#0d0887"
            ],
            [
             0.1111111111111111,
             "#46039f"
            ],
            [
             0.2222222222222222,
             "#7201a8"
            ],
            [
             0.3333333333333333,
             "#9c179e"
            ],
            [
             0.4444444444444444,
             "#bd3786"
            ],
            [
             0.5555555555555556,
             "#d8576b"
            ],
            [
             0.6666666666666666,
             "#ed7953"
            ],
            [
             0.7777777777777778,
             "#fb9f3a"
            ],
            [
             0.8888888888888888,
             "#fdca26"
            ],
            [
             1,
             "#f0f921"
            ]
           ]
          },
          "colorway": [
           "#636efa",
           "#EF553B",
           "#00cc96",
           "#ab63fa",
           "#FFA15A",
           "#19d3f3",
           "#FF6692",
           "#B6E880",
           "#FF97FF",
           "#FECB52"
          ],
          "font": {
           "color": "#2a3f5f"
          },
          "geo": {
           "bgcolor": "white",
           "lakecolor": "white",
           "landcolor": "#E5ECF6",
           "showlakes": true,
           "showland": true,
           "subunitcolor": "white"
          },
          "hoverlabel": {
           "align": "left"
          },
          "hovermode": "closest",
          "mapbox": {
           "style": "light"
          },
          "paper_bgcolor": "white",
          "plot_bgcolor": "#E5ECF6",
          "polar": {
           "angularaxis": {
            "gridcolor": "white",
            "linecolor": "white",
            "ticks": ""
           },
           "bgcolor": "#E5ECF6",
           "radialaxis": {
            "gridcolor": "white",
            "linecolor": "white",
            "ticks": ""
           }
          },
          "scene": {
           "xaxis": {
            "backgroundcolor": "#E5ECF6",
            "gridcolor": "white",
            "gridwidth": 2,
            "linecolor": "white",
            "showbackground": true,
            "ticks": "",
            "zerolinecolor": "white"
           },
           "yaxis": {
            "backgroundcolor": "#E5ECF6",
            "gridcolor": "white",
            "gridwidth": 2,
            "linecolor": "white",
            "showbackground": true,
            "ticks": "",
            "zerolinecolor": "white"
           },
           "zaxis": {
            "backgroundcolor": "#E5ECF6",
            "gridcolor": "white",
            "gridwidth": 2,
            "linecolor": "white",
            "showbackground": true,
            "ticks": "",
            "zerolinecolor": "white"
           }
          },
          "shapedefaults": {
           "line": {
            "color": "#2a3f5f"
           }
          },
          "ternary": {
           "aaxis": {
            "gridcolor": "white",
            "linecolor": "white",
            "ticks": ""
           },
           "baxis": {
            "gridcolor": "white",
            "linecolor": "white",
            "ticks": ""
           },
           "bgcolor": "#E5ECF6",
           "caxis": {
            "gridcolor": "white",
            "linecolor": "white",
            "ticks": ""
           }
          },
          "title": {
           "x": 0.05
          },
          "xaxis": {
           "automargin": true,
           "gridcolor": "white",
           "linecolor": "white",
           "ticks": "",
           "title": {
            "standoff": 15
           },
           "zerolinecolor": "white",
           "zerolinewidth": 2
          },
          "yaxis": {
           "automargin": true,
           "gridcolor": "white",
           "linecolor": "white",
           "ticks": "",
           "title": {
            "standoff": 15
           },
           "zerolinecolor": "white",
           "zerolinewidth": 2
          }
         }
        },
        "width": 700
       }
      },
      "text/html": [
       "<div>                            <div id=\"79e19353-ab68-4e04-8eb8-dca369ce55db\" class=\"plotly-graph-div\" style=\"height:525px; width:700px;\"></div>            <script type=\"text/javascript\">                require([\"plotly\"], function(Plotly) {                    window.PLOTLYENV=window.PLOTLYENV || {};                                    if (document.getElementById(\"79e19353-ab68-4e04-8eb8-dca369ce55db\")) {                    Plotly.newPlot(                        \"79e19353-ab68-4e04-8eb8-dca369ce55db\",                        [{\"alphahull\":1,\"color\":\"rgba(94, 51, 51, 1)\",\"flatshading\":true,\"lighting\":{\"diffuse\":0.1,\"roughness\":0.5,\"specular\":2.0},\"name\":\"burger king\",\"x\":[311.3076,311.3076,611.3076,611.3076,311.3076,311.3076,611.3076,611.3076],\"y\":[295.7078260869565,295.7078260869565,295.7078260869565,295.7078260869565,595.7078260869565,595.7078260869565,595.7078260869565,595.7078260869565],\"z\":[9220.0,9520.0,9220.0,9520.0,9220.0,9520.0,9220.0,9520.0],\"type\":\"mesh3d\"},{\"alphahull\":1,\"color\":\"red\",\"flatshading\":true,\"lighting\":{\"diffuse\":0.1,\"roughness\":0.5,\"specular\":2.0},\"name\":\"kfc/rostic\\u2019s\",\"x\":[535.3518,535.3518,835.3518,835.3518,535.3518,535.3518,835.3518,835.3518],\"y\":[387.7417026284818,387.7417026284818,387.7417026284818,387.7417026284818,687.7417026284818,687.7417026284818,687.7417026284818,687.7417026284818],\"z\":[11137.0,11437.0,11137.0,11437.0,11137.0,11437.0,11137.0,11437.0],\"type\":\"mesh3d\"},{\"alphahull\":1,\"color\":\"yellow\",\"flatshading\":true,\"lighting\":{\"diffuse\":0.1,\"roughness\":0.5,\"specular\":2.0},\"name\":\"vkusnoitochka\",\"x\":[835.5189,835.5189,1135.5189,1135.5189,835.5189,835.5189,1135.5189,1135.5189],\"y\":[319.5406641574158,319.5406641574158,319.5406641574158,319.5406641574158,619.5406641574158,619.5406641574158,619.5406641574158,619.5406641574158],\"z\":[17968.0,18268.0,17968.0,18268.0,17968.0,18268.0,17968.0,18268.0],\"type\":\"mesh3d\"}],                        {\"template\":{\"data\":{\"histogram2dcontour\":[{\"type\":\"histogram2dcontour\",\"colorbar\":{\"outlinewidth\":0,\"ticks\":\"\"},\"colorscale\":[[0.0,\"#0d0887\"],[0.1111111111111111,\"#46039f\"],[0.2222222222222222,\"#7201a8\"],[0.3333333333333333,\"#9c179e\"],[0.4444444444444444,\"#bd3786\"],[0.5555555555555556,\"#d8576b\"],[0.6666666666666666,\"#ed7953\"],[0.7777777777777778,\"#fb9f3a\"],[0.8888888888888888,\"#fdca26\"],[1.0,\"#f0f921\"]]}],\"choropleth\":[{\"type\":\"choropleth\",\"colorbar\":{\"outlinewidth\":0,\"ticks\":\"\"}}],\"histogram2d\":[{\"type\":\"histogram2d\",\"colorbar\":{\"outlinewidth\":0,\"ticks\":\"\"},\"colorscale\":[[0.0,\"#0d0887\"],[0.1111111111111111,\"#46039f\"],[0.2222222222222222,\"#7201a8\"],[0.3333333333333333,\"#9c179e\"],[0.4444444444444444,\"#bd3786\"],[0.5555555555555556,\"#d8576b\"],[0.6666666666666666,\"#ed7953\"],[0.7777777777777778,\"#fb9f3a\"],[0.8888888888888888,\"#fdca26\"],[1.0,\"#f0f921\"]]}],\"heatmap\":[{\"type\":\"heatmap\",\"colorbar\":{\"outlinewidth\":0,\"ticks\":\"\"},\"colorscale\":[[0.0,\"#0d0887\"],[0.1111111111111111,\"#46039f\"],[0.2222222222222222,\"#7201a8\"],[0.3333333333333333,\"#9c179e\"],[0.4444444444444444,\"#bd3786\"],[0.5555555555555556,\"#d8576b\"],[0.6666666666666666,\"#ed7953\"],[0.7777777777777778,\"#fb9f3a\"],[0.8888888888888888,\"#fdca26\"],[1.0,\"#f0f921\"]]}],\"heatmapgl\":[{\"type\":\"heatmapgl\",\"colorbar\":{\"outlinewidth\":0,\"ticks\":\"\"},\"colorscale\":[[0.0,\"#0d0887\"],[0.1111111111111111,\"#46039f\"],[0.2222222222222222,\"#7201a8\"],[0.3333333333333333,\"#9c179e\"],[0.4444444444444444,\"#bd3786\"],[0.5555555555555556,\"#d8576b\"],[0.6666666666666666,\"#ed7953\"],[0.7777777777777778,\"#fb9f3a\"],[0.8888888888888888,\"#fdca26\"],[1.0,\"#f0f921\"]]}],\"contourcarpet\":[{\"type\":\"contourcarpet\",\"colorbar\":{\"outlinewidth\":0,\"ticks\":\"\"}}],\"contour\":[{\"type\":\"contour\",\"colorbar\":{\"outlinewidth\":0,\"ticks\":\"\"},\"colorscale\":[[0.0,\"#0d0887\"],[0.1111111111111111,\"#46039f\"],[0.2222222222222222,\"#7201a8\"],[0.3333333333333333,\"#9c179e\"],[0.4444444444444444,\"#bd3786\"],[0.5555555555555556,\"#d8576b\"],[0.6666666666666666,\"#ed7953\"],[0.7777777777777778,\"#fb9f3a\"],[0.8888888888888888,\"#fdca26\"],[1.0,\"#f0f921\"]]}],\"surface\":[{\"type\":\"surface\",\"colorbar\":{\"outlinewidth\":0,\"ticks\":\"\"},\"colorscale\":[[0.0,\"#0d0887\"],[0.1111111111111111,\"#46039f\"],[0.2222222222222222,\"#7201a8\"],[0.3333333333333333,\"#9c179e\"],[0.4444444444444444,\"#bd3786\"],[0.5555555555555556,\"#d8576b\"],[0.6666666666666666,\"#ed7953\"],[0.7777777777777778,\"#fb9f3a\"],[0.8888888888888888,\"#fdca26\"],[1.0,\"#f0f921\"]]}],\"mesh3d\":[{\"type\":\"mesh3d\",\"colorbar\":{\"outlinewidth\":0,\"ticks\":\"\"}}],\"scatter\":[{\"fillpattern\":{\"fillmode\":\"overlay\",\"size\":10,\"solidity\":0.2},\"type\":\"scatter\"}],\"parcoords\":[{\"type\":\"parcoords\",\"line\":{\"colorbar\":{\"outlinewidth\":0,\"ticks\":\"\"}}}],\"scatterpolargl\":[{\"type\":\"scatterpolargl\",\"marker\":{\"colorbar\":{\"outlinewidth\":0,\"ticks\":\"\"}}}],\"bar\":[{\"error_x\":{\"color\":\"#2a3f5f\"},\"error_y\":{\"color\":\"#2a3f5f\"},\"marker\":{\"line\":{\"color\":\"#E5ECF6\",\"width\":0.5},\"pattern\":{\"fillmode\":\"overlay\",\"size\":10,\"solidity\":0.2}},\"type\":\"bar\"}],\"scattergeo\":[{\"type\":\"scattergeo\",\"marker\":{\"colorbar\":{\"outlinewidth\":0,\"ticks\":\"\"}}}],\"scatterpolar\":[{\"type\":\"scatterpolar\",\"marker\":{\"colorbar\":{\"outlinewidth\":0,\"ticks\":\"\"}}}],\"histogram\":[{\"marker\":{\"pattern\":{\"fillmode\":\"overlay\",\"size\":10,\"solidity\":0.2}},\"type\":\"histogram\"}],\"scattergl\":[{\"type\":\"scattergl\",\"marker\":{\"colorbar\":{\"outlinewidth\":0,\"ticks\":\"\"}}}],\"scatter3d\":[{\"type\":\"scatter3d\",\"line\":{\"colorbar\":{\"outlinewidth\":0,\"ticks\":\"\"}},\"marker\":{\"colorbar\":{\"outlinewidth\":0,\"ticks\":\"\"}}}],\"scattermapbox\":[{\"type\":\"scattermapbox\",\"marker\":{\"colorbar\":{\"outlinewidth\":0,\"ticks\":\"\"}}}],\"scatterternary\":[{\"type\":\"scatterternary\",\"marker\":{\"colorbar\":{\"outlinewidth\":0,\"ticks\":\"\"}}}],\"scattercarpet\":[{\"type\":\"scattercarpet\",\"marker\":{\"colorbar\":{\"outlinewidth\":0,\"ticks\":\"\"}}}],\"carpet\":[{\"aaxis\":{\"endlinecolor\":\"#2a3f5f\",\"gridcolor\":\"white\",\"linecolor\":\"white\",\"minorgridcolor\":\"white\",\"startlinecolor\":\"#2a3f5f\"},\"baxis\":{\"endlinecolor\":\"#2a3f5f\",\"gridcolor\":\"white\",\"linecolor\":\"white\",\"minorgridcolor\":\"white\",\"startlinecolor\":\"#2a3f5f\"},\"type\":\"carpet\"}],\"table\":[{\"cells\":{\"fill\":{\"color\":\"#EBF0F8\"},\"line\":{\"color\":\"white\"}},\"header\":{\"fill\":{\"color\":\"#C8D4E3\"},\"line\":{\"color\":\"white\"}},\"type\":\"table\"}],\"barpolar\":[{\"marker\":{\"line\":{\"color\":\"#E5ECF6\",\"width\":0.5},\"pattern\":{\"fillmode\":\"overlay\",\"size\":10,\"solidity\":0.2}},\"type\":\"barpolar\"}],\"pie\":[{\"automargin\":true,\"type\":\"pie\"}]},\"layout\":{\"autotypenumbers\":\"strict\",\"colorway\":[\"#636efa\",\"#EF553B\",\"#00cc96\",\"#ab63fa\",\"#FFA15A\",\"#19d3f3\",\"#FF6692\",\"#B6E880\",\"#FF97FF\",\"#FECB52\"],\"font\":{\"color\":\"#2a3f5f\"},\"hovermode\":\"closest\",\"hoverlabel\":{\"align\":\"left\"},\"paper_bgcolor\":\"white\",\"plot_bgcolor\":\"#E5ECF6\",\"polar\":{\"bgcolor\":\"#E5ECF6\",\"angularaxis\":{\"gridcolor\":\"white\",\"linecolor\":\"white\",\"ticks\":\"\"},\"radialaxis\":{\"gridcolor\":\"white\",\"linecolor\":\"white\",\"ticks\":\"\"}},\"ternary\":{\"bgcolor\":\"#E5ECF6\",\"aaxis\":{\"gridcolor\":\"white\",\"linecolor\":\"white\",\"ticks\":\"\"},\"baxis\":{\"gridcolor\":\"white\",\"linecolor\":\"white\",\"ticks\":\"\"},\"caxis\":{\"gridcolor\":\"white\",\"linecolor\":\"white\",\"ticks\":\"\"}},\"coloraxis\":{\"colorbar\":{\"outlinewidth\":0,\"ticks\":\"\"}},\"colorscale\":{\"sequential\":[[0.0,\"#0d0887\"],[0.1111111111111111,\"#46039f\"],[0.2222222222222222,\"#7201a8\"],[0.3333333333333333,\"#9c179e\"],[0.4444444444444444,\"#bd3786\"],[0.5555555555555556,\"#d8576b\"],[0.6666666666666666,\"#ed7953\"],[0.7777777777777778,\"#fb9f3a\"],[0.8888888888888888,\"#fdca26\"],[1.0,\"#f0f921\"]],\"sequentialminus\":[[0.0,\"#0d0887\"],[0.1111111111111111,\"#46039f\"],[0.2222222222222222,\"#7201a8\"],[0.3333333333333333,\"#9c179e\"],[0.4444444444444444,\"#bd3786\"],[0.5555555555555556,\"#d8576b\"],[0.6666666666666666,\"#ed7953\"],[0.7777777777777778,\"#fb9f3a\"],[0.8888888888888888,\"#fdca26\"],[1.0,\"#f0f921\"]],\"diverging\":[[0,\"#8e0152\"],[0.1,\"#c51b7d\"],[0.2,\"#de77ae\"],[0.3,\"#f1b6da\"],[0.4,\"#fde0ef\"],[0.5,\"#f7f7f7\"],[0.6,\"#e6f5d0\"],[0.7,\"#b8e186\"],[0.8,\"#7fbc41\"],[0.9,\"#4d9221\"],[1,\"#276419\"]]},\"xaxis\":{\"gridcolor\":\"white\",\"linecolor\":\"white\",\"ticks\":\"\",\"title\":{\"standoff\":15},\"zerolinecolor\":\"white\",\"automargin\":true,\"zerolinewidth\":2},\"yaxis\":{\"gridcolor\":\"white\",\"linecolor\":\"white\",\"ticks\":\"\",\"title\":{\"standoff\":15},\"zerolinecolor\":\"white\",\"automargin\":true,\"zerolinewidth\":2},\"scene\":{\"xaxis\":{\"backgroundcolor\":\"#E5ECF6\",\"gridcolor\":\"white\",\"linecolor\":\"white\",\"showbackground\":true,\"ticks\":\"\",\"zerolinecolor\":\"white\",\"gridwidth\":2},\"yaxis\":{\"backgroundcolor\":\"#E5ECF6\",\"gridcolor\":\"white\",\"linecolor\":\"white\",\"showbackground\":true,\"ticks\":\"\",\"zerolinecolor\":\"white\",\"gridwidth\":2},\"zaxis\":{\"backgroundcolor\":\"#E5ECF6\",\"gridcolor\":\"white\",\"linecolor\":\"white\",\"showbackground\":true,\"ticks\":\"\",\"zerolinecolor\":\"white\",\"gridwidth\":2}},\"shapedefaults\":{\"line\":{\"color\":\"#2a3f5f\"}},\"annotationdefaults\":{\"arrowcolor\":\"#2a3f5f\",\"arrowhead\":0,\"arrowwidth\":1},\"geo\":{\"bgcolor\":\"white\",\"landcolor\":\"#E5ECF6\",\"subunitcolor\":\"white\",\"showland\":true,\"showlakes\":true,\"lakecolor\":\"white\"},\"title\":{\"x\":0.05},\"mapbox\":{\"style\":\"light\"}}},\"margin\":{\"r\":20,\"b\":10,\"l\":10,\"t\":10},\"scene\":{\"xaxis\":{\"title\":{\"text\":\"money_spent_rub_sum / 10^4\"}},\"yaxis\":{\"title\":{\"text\":\"money_spent_rub_mean\"}},\"zaxis\":{\"title\":{\"text\":\"client count\"}}},\"width\":700},                        {\"responsive\": true}                    ).then(function(){\n",
       "                            \n",
       "var gd = document.getElementById('79e19353-ab68-4e04-8eb8-dca369ce55db');\n",
       "var x = new MutationObserver(function (mutations, observer) {{\n",
       "        var display = window.getComputedStyle(gd).display;\n",
       "        if (!display || display === 'none') {{\n",
       "            console.log([gd, 'removed!']);\n",
       "            Plotly.purge(gd);\n",
       "            observer.disconnect();\n",
       "        }}\n",
       "}});\n",
       "\n",
       "// Listen for the removal of the full notebook cells\n",
       "var notebookContainer = gd.closest('#notebook-container');\n",
       "if (notebookContainer) {{\n",
       "    x.observe(notebookContainer, {childList: true});\n",
       "}}\n",
       "\n",
       "// Listen for the clearing of the current output cell\n",
       "var outputEl = gd.closest('.output');\n",
       "if (outputEl) {{\n",
       "    x.observe(outputEl, {childList: true});\n",
       "}}\n",
       "\n",
       "                        })                };                });            </script>        </div>"
      ]
     },
     "metadata": {},
     "output_type": "display_data"
    }
   ],
   "source": [
    "def cubes(size, pos_x, pos_y, pos_z, color, name):\n",
    "    # create points\n",
    "    x, y, z = np.meshgrid(\n",
    "        np.linspace(pos_x-size, pos_x+size, 2), \n",
    "        np.linspace(pos_y-size, pos_y+size, 2), \n",
    "        np.linspace(pos_z-size, pos_z+size, 2),\n",
    "    )\n",
    "    x = x.flatten()\n",
    "    y = y.flatten()\n",
    "    z = z.flatten()\n",
    "    \n",
    "    return go.Mesh3d(x=x, y=y, z=z, alphahull=1, flatshading=True, color=color,\n",
    "                     lighting={'diffuse': 0.1, 'specular': 2.0, 'roughness': 0.5}, name=name)\n",
    "\n",
    "fig = go.Figure()\n",
    "# set edge length of cubes\n",
    "size = 150\n",
    "\n",
    "names = ['burger king', 'kfc/rostic’s', 'vkusnoitochka']\n",
    "colors = ['rgba(94, 51, 51, 1)', 'red', 'yellow']\n",
    "for i in range(3):\n",
    "    fig.add_trace(cubes(size,\n",
    "                        data_for_graph.loc[data_for_graph['restaraunt'] == names[i]].iloc[:, 3],\n",
    "                        data_for_graph.loc[data_for_graph['restaraunt'] == names[i]].iloc[:, 2],\n",
    "                        data_for_graph.loc[data_for_graph['restaraunt'] == names[i]].iloc[:, 1],\n",
    "                        colors[i],\n",
    "                        names[i]))\n",
    "\n",
    "\n",
    "\n",
    "fig.update_layout(scene = dict(\n",
    "                    xaxis_title='money_spent_rub_sum / 10^4',\n",
    "                    yaxis_title='money_spent_rub_mean',\n",
    "                    zaxis_title='client count'),\n",
    "                    width=700,\n",
    "                    margin=dict(r=20, b=10, l=10, t=10))\n",
    "\n",
    "fig.show()"
   ]
  },
  {
   "cell_type": "code",
   "execution_count": null,
   "id": "ccbd08b9",
   "metadata": {},
   "outputs": [],
   "source": []
  }
 ],
 "metadata": {
  "kernelspec": {
   "display_name": "Python 3 (ipykernel)",
   "language": "python",
   "name": "python3"
  },
  "language_info": {
   "codemirror_mode": {
    "name": "ipython",
    "version": 3
   },
   "file_extension": ".py",
   "mimetype": "text/x-python",
   "name": "python",
   "nbconvert_exporter": "python",
   "pygments_lexer": "ipython3",
   "version": "3.10.12"
  }
 },
 "nbformat": 4,
 "nbformat_minor": 5
}
