{
 "cells": [
  {
   "cell_type": "markdown",
   "id": "75d2f046",
   "metadata": {},
   "source": [
    "# ImportCell"
   ]
  },
  {
   "cell_type": "code",
   "execution_count": 1,
   "id": "c47a1fef",
   "metadata": {},
   "outputs": [],
   "source": [
    "import numpy as np\n",
    "import pandas as pd\n",
    "from pandasql import sqldf"
   ]
  },
  {
   "cell_type": "markdown",
   "id": "8abc511a",
   "metadata": {},
   "source": [
    "# DataLoad"
   ]
  },
  {
   "cell_type": "code",
   "execution_count": 2,
   "id": "c929b845",
   "metadata": {},
   "outputs": [],
   "source": [
    "devices = pd.read_csv(\"C:\\\\Users\\\\Mr0Wo\\\\OneDrive\\\\Рабочий стол\\\\Git_repositories\\\\Data-science-cases\\\\Analytical-cases\\\\Shift+Enter_MTS\\\\DataAnalytic\\\\task3\\\\devices.csv\")"
   ]
  },
  {
   "cell_type": "code",
   "execution_count": 3,
   "id": "1d9a2437",
   "metadata": {},
   "outputs": [],
   "source": [
    "emp_name = pd.read_csv(\"C:\\\\Users\\\\Mr0Wo\\\\OneDrive\\\\Рабочий стол\\\\Git_repositories\\\\Data-science-cases\\\\Analytical-cases\\\\Shift+Enter_MTS\\\\DataAnalytic\\\\task3\\\\emp_name.csv\")"
   ]
  },
  {
   "cell_type": "code",
   "execution_count": 4,
   "id": "a7dc1570",
   "metadata": {},
   "outputs": [],
   "source": [
    "operators = pd.read_csv(\"C:\\\\Users\\\\Mr0Wo\\\\OneDrive\\\\Рабочий стол\\\\Git_repositories\\\\Data-science-cases\\\\Analytical-cases\\\\Shift+Enter_MTS\\\\DataAnalytic\\\\task3\\\\operators.csv\")"
   ]
  },
  {
   "cell_type": "markdown",
   "id": "d4752ea2",
   "metadata": {},
   "source": [
    "# Data"
   ]
  },
  {
   "cell_type": "code",
   "execution_count": 5,
   "id": "44af3aee",
   "metadata": {},
   "outputs": [
    {
     "data": {
      "text/html": [
       "<div>\n",
       "<style scoped>\n",
       "    .dataframe tbody tr th:only-of-type {\n",
       "        vertical-align: middle;\n",
       "    }\n",
       "\n",
       "    .dataframe tbody tr th {\n",
       "        vertical-align: top;\n",
       "    }\n",
       "\n",
       "    .dataframe thead th {\n",
       "        text-align: right;\n",
       "    }\n",
       "</style>\n",
       "<table border=\"1\" class=\"dataframe\">\n",
       "  <thead>\n",
       "    <tr style=\"text-align: right;\">\n",
       "      <th></th>\n",
       "      <th>empl_id</th>\n",
       "      <th>date_from</th>\n",
       "      <th>date_to</th>\n",
       "      <th>device</th>\n",
       "    </tr>\n",
       "  </thead>\n",
       "  <tbody>\n",
       "    <tr>\n",
       "      <th>0</th>\n",
       "      <td>111</td>\n",
       "      <td>2019-08-08</td>\n",
       "      <td>2019-10-07</td>\n",
       "      <td>iPhone 11</td>\n",
       "    </tr>\n",
       "    <tr>\n",
       "      <th>1</th>\n",
       "      <td>121</td>\n",
       "      <td>2019-11-10</td>\n",
       "      <td>2021-09-10</td>\n",
       "      <td>Samsung A52</td>\n",
       "    </tr>\n",
       "    <tr>\n",
       "      <th>2</th>\n",
       "      <td>122</td>\n",
       "      <td>2019-01-13</td>\n",
       "      <td>2020-11-10</td>\n",
       "      <td>Xiaomi Mi10</td>\n",
       "    </tr>\n",
       "    <tr>\n",
       "      <th>3</th>\n",
       "      <td>111</td>\n",
       "      <td>2019-10-08</td>\n",
       "      <td>2021-01-10</td>\n",
       "      <td>iPhone 12</td>\n",
       "    </tr>\n",
       "    <tr>\n",
       "      <th>4</th>\n",
       "      <td>122</td>\n",
       "      <td>2020-11-11</td>\n",
       "      <td>2021-08-12</td>\n",
       "      <td>Xiaomi Mi 11 Ultra</td>\n",
       "    </tr>\n",
       "    <tr>\n",
       "      <th>5</th>\n",
       "      <td>122</td>\n",
       "      <td>2021-08-13</td>\n",
       "      <td>2022-01-17</td>\n",
       "      <td>iPhone 13</td>\n",
       "    </tr>\n",
       "    <tr>\n",
       "      <th>6</th>\n",
       "      <td>111</td>\n",
       "      <td>2021-01-11</td>\n",
       "      <td>2022-12-07</td>\n",
       "      <td>iPhone 13</td>\n",
       "    </tr>\n",
       "  </tbody>\n",
       "</table>\n",
       "</div>"
      ],
      "text/plain": [
       "   empl_id   date_from     date_to              device\n",
       "0      111  2019-08-08  2019-10-07           iPhone 11\n",
       "1      121  2019-11-10  2021-09-10         Samsung A52\n",
       "2      122  2019-01-13  2020-11-10         Xiaomi Mi10\n",
       "3      111  2019-10-08  2021-01-10           iPhone 12\n",
       "4      122  2020-11-11  2021-08-12  Xiaomi Mi 11 Ultra\n",
       "5      122  2021-08-13  2022-01-17           iPhone 13\n",
       "6      111  2021-01-11  2022-12-07           iPhone 13"
      ]
     },
     "execution_count": 5,
     "metadata": {},
     "output_type": "execute_result"
    }
   ],
   "source": [
    "devices"
   ]
  },
  {
   "cell_type": "code",
   "execution_count": 6,
   "id": "2197c417",
   "metadata": {},
   "outputs": [
    {
     "data": {
      "text/html": [
       "<div>\n",
       "<style scoped>\n",
       "    .dataframe tbody tr th:only-of-type {\n",
       "        vertical-align: middle;\n",
       "    }\n",
       "\n",
       "    .dataframe tbody tr th {\n",
       "        vertical-align: top;\n",
       "    }\n",
       "\n",
       "    .dataframe thead th {\n",
       "        text-align: right;\n",
       "    }\n",
       "</style>\n",
       "<table border=\"1\" class=\"dataframe\">\n",
       "  <thead>\n",
       "    <tr style=\"text-align: right;\">\n",
       "      <th></th>\n",
       "      <th>empl_id</th>\n",
       "      <th>date_from</th>\n",
       "      <th>date_to</th>\n",
       "      <th>op_name</th>\n",
       "    </tr>\n",
       "  </thead>\n",
       "  <tbody>\n",
       "    <tr>\n",
       "      <th>0</th>\n",
       "      <td>111</td>\n",
       "      <td>2019-11-10</td>\n",
       "      <td>2020-12-13</td>\n",
       "      <td>МегаФон</td>\n",
       "    </tr>\n",
       "    <tr>\n",
       "      <th>1</th>\n",
       "      <td>122</td>\n",
       "      <td>2018-11-10</td>\n",
       "      <td>2019-10-17</td>\n",
       "      <td>МТС</td>\n",
       "    </tr>\n",
       "    <tr>\n",
       "      <th>2</th>\n",
       "      <td>111</td>\n",
       "      <td>2020-12-14</td>\n",
       "      <td>2021-09-09</td>\n",
       "      <td>МТС</td>\n",
       "    </tr>\n",
       "    <tr>\n",
       "      <th>3</th>\n",
       "      <td>122</td>\n",
       "      <td>2019-10-18</td>\n",
       "      <td>2020-12-03</td>\n",
       "      <td>МегаФон</td>\n",
       "    </tr>\n",
       "    <tr>\n",
       "      <th>4</th>\n",
       "      <td>111</td>\n",
       "      <td>2021-09-10</td>\n",
       "      <td>2022-08-13</td>\n",
       "      <td>Теле2</td>\n",
       "    </tr>\n",
       "    <tr>\n",
       "      <th>5</th>\n",
       "      <td>121</td>\n",
       "      <td>2019-11-10</td>\n",
       "      <td>2020-12-10</td>\n",
       "      <td>Билайн</td>\n",
       "    </tr>\n",
       "  </tbody>\n",
       "</table>\n",
       "</div>"
      ],
      "text/plain": [
       "   empl_id   date_from     date_to  op_name\n",
       "0      111  2019-11-10  2020-12-13  МегаФон\n",
       "1      122  2018-11-10  2019-10-17      МТС\n",
       "2      111  2020-12-14  2021-09-09      МТС\n",
       "3      122  2019-10-18  2020-12-03  МегаФон\n",
       "4      111  2021-09-10  2022-08-13    Теле2\n",
       "5      121  2019-11-10  2020-12-10   Билайн"
      ]
     },
     "execution_count": 6,
     "metadata": {},
     "output_type": "execute_result"
    }
   ],
   "source": [
    "operators"
   ]
  },
  {
   "cell_type": "code",
   "execution_count": 7,
   "id": "deb4de0d",
   "metadata": {},
   "outputs": [
    {
     "data": {
      "text/html": [
       "<div>\n",
       "<style scoped>\n",
       "    .dataframe tbody tr th:only-of-type {\n",
       "        vertical-align: middle;\n",
       "    }\n",
       "\n",
       "    .dataframe tbody tr th {\n",
       "        vertical-align: top;\n",
       "    }\n",
       "\n",
       "    .dataframe thead th {\n",
       "        text-align: right;\n",
       "    }\n",
       "</style>\n",
       "<table border=\"1\" class=\"dataframe\">\n",
       "  <thead>\n",
       "    <tr style=\"text-align: right;\">\n",
       "      <th></th>\n",
       "      <th>empl_id</th>\n",
       "      <th>first_name</th>\n",
       "    </tr>\n",
       "  </thead>\n",
       "  <tbody>\n",
       "    <tr>\n",
       "      <th>0</th>\n",
       "      <td>111</td>\n",
       "      <td>Егор</td>\n",
       "    </tr>\n",
       "    <tr>\n",
       "      <th>1</th>\n",
       "      <td>121</td>\n",
       "      <td>Тимофей</td>\n",
       "    </tr>\n",
       "    <tr>\n",
       "      <th>2</th>\n",
       "      <td>122</td>\n",
       "      <td>Антон</td>\n",
       "    </tr>\n",
       "  </tbody>\n",
       "</table>\n",
       "</div>"
      ],
      "text/plain": [
       "   empl_id first_name\n",
       "0      111       Егор\n",
       "1      121    Тимофей\n",
       "2      122      Антон"
      ]
     },
     "execution_count": 7,
     "metadata": {},
     "output_type": "execute_result"
    }
   ],
   "source": [
    "emp_name"
   ]
  },
  {
   "cell_type": "markdown",
   "id": "122f67f1",
   "metadata": {},
   "source": [
    "# Task"
   ]
  },
  {
   "cell_type": "markdown",
   "id": "0f78bf2a",
   "metadata": {},
   "source": [
    "У нас есть несколько датасетов, включая таблицу с историей владения мобильными\n",
    "телефонами, содержащую информацию о владельцах (сотрудниках одной компании), вне\n",
    "зависимости от того, у какого оператора связи они находились или находятся сейчас.\n",
    "Во второй таблице есть данные о времени пребывания этих людей с определенными\n",
    "операторами связи.\n",
    "Используй имеющиеся данные, чтобы установить максимальное время владения телефоном\n",
    "для выбранного оператора связи. Эта информация позволит нам сделать выводы и\n",
    "сформулировать начальные гипотезы о том, существует ли какая-то связь между марками\n",
    "телефонов и длительностью пребывания их владельцев у определенных операторов сотовой\n",
    "связи."
   ]
  },
  {
   "cell_type": "markdown",
   "id": "b3f109cd",
   "metadata": {},
   "source": [
    "# SQLWay"
   ]
  },
  {
   "cell_type": "code",
   "execution_count": 31,
   "id": "ab98c6aa",
   "metadata": {},
   "outputs": [],
   "source": [
    "q = \"\"\"SELECT\n",
    "op_name,\n",
    "device\n",
    "FROM\n",
    "(SELECT\n",
    "o.op_name,\n",
    "d.device,\n",
    "ROW_NUMBER() OVER (PARTITION BY e.empl_id,o.op_name\n",
    "ORDER BY MIN(d.date_to,o.date_to,1) -\n",
    "MAX(d.date_from,o.date_from,1) DESC) AS rn\n",
    "FROM operators o\n",
    "LEFT JOIN devices d\n",
    "ON (o.date_from BETWEEN d.date_from AND d.date_to\n",
    "OR o.date_to BETWEEN d.date_from AND d.date_to)\n",
    "AND o.empl_id = d.empl_id\n",
    "JOIN emp_name e\n",
    "ON o.empl_id = e.empl_id) res\n",
    "WHERE\n",
    "res.rn = 1\n",
    " \n",
    "\"\"\""
   ]
  },
  {
   "cell_type": "code",
   "execution_count": 32,
   "id": "50121c50",
   "metadata": {},
   "outputs": [
    {
     "data": {
      "text/html": [
       "<div>\n",
       "<style scoped>\n",
       "    .dataframe tbody tr th:only-of-type {\n",
       "        vertical-align: middle;\n",
       "    }\n",
       "\n",
       "    .dataframe tbody tr th {\n",
       "        vertical-align: top;\n",
       "    }\n",
       "\n",
       "    .dataframe thead th {\n",
       "        text-align: right;\n",
       "    }\n",
       "</style>\n",
       "<table border=\"1\" class=\"dataframe\">\n",
       "  <thead>\n",
       "    <tr style=\"text-align: right;\">\n",
       "      <th></th>\n",
       "      <th>op_name</th>\n",
       "      <th>device</th>\n",
       "    </tr>\n",
       "  </thead>\n",
       "  <tbody>\n",
       "    <tr>\n",
       "      <th>0</th>\n",
       "      <td>МТС</td>\n",
       "      <td>iPhone 12</td>\n",
       "    </tr>\n",
       "    <tr>\n",
       "      <th>1</th>\n",
       "      <td>МегаФон</td>\n",
       "      <td>iPhone 12</td>\n",
       "    </tr>\n",
       "    <tr>\n",
       "      <th>2</th>\n",
       "      <td>Теле2</td>\n",
       "      <td>iPhone 13</td>\n",
       "    </tr>\n",
       "    <tr>\n",
       "      <th>3</th>\n",
       "      <td>Билайн</td>\n",
       "      <td>Samsung A52</td>\n",
       "    </tr>\n",
       "    <tr>\n",
       "      <th>4</th>\n",
       "      <td>МТС</td>\n",
       "      <td>Xiaomi Mi10</td>\n",
       "    </tr>\n",
       "    <tr>\n",
       "      <th>5</th>\n",
       "      <td>МегаФон</td>\n",
       "      <td>Xiaomi Mi10</td>\n",
       "    </tr>\n",
       "  </tbody>\n",
       "</table>\n",
       "</div>"
      ],
      "text/plain": [
       "   op_name       device\n",
       "0      МТС    iPhone 12\n",
       "1  МегаФон    iPhone 12\n",
       "2    Теле2    iPhone 13\n",
       "3   Билайн  Samsung A52\n",
       "4      МТС  Xiaomi Mi10\n",
       "5  МегаФон  Xiaomi Mi10"
      ]
     },
     "execution_count": 32,
     "metadata": {},
     "output_type": "execute_result"
    }
   ],
   "source": [
    "sqldf(q)"
   ]
  },
  {
   "cell_type": "code",
   "execution_count": null,
   "id": "f652e7ff",
   "metadata": {},
   "outputs": [],
   "source": []
  }
 ],
 "metadata": {
  "kernelspec": {
   "display_name": "Python 3 (ipykernel)",
   "language": "python",
   "name": "python3"
  },
  "language_info": {
   "codemirror_mode": {
    "name": "ipython",
    "version": 3
   },
   "file_extension": ".py",
   "mimetype": "text/x-python",
   "name": "python",
   "nbconvert_exporter": "python",
   "pygments_lexer": "ipython3",
   "version": "3.10.12"
  }
 },
 "nbformat": 4,
 "nbformat_minor": 5
}
