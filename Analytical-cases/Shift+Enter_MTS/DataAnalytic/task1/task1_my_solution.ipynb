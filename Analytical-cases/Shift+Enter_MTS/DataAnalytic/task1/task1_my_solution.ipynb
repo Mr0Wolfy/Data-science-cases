{
 "cells": [
  {
   "cell_type": "markdown",
   "id": "a670dab9",
   "metadata": {},
   "source": [
    "# ImportCell"
   ]
  },
  {
   "cell_type": "code",
   "execution_count": 2,
   "id": "f9d1a60e",
   "metadata": {},
   "outputs": [],
   "source": [
    "import numpy as np\n",
    "import pandas as pd\n",
    "from pandasql import sqldf"
   ]
  },
  {
   "cell_type": "markdown",
   "id": "e7465bd6",
   "metadata": {},
   "source": [
    "# DataLoad"
   ]
  },
  {
   "cell_type": "code",
   "execution_count": 3,
   "id": "c9b62056",
   "metadata": {},
   "outputs": [],
   "source": [
    "cities_regions = pd.read_csv(\"C:\\\\Users\\\\Mr0Wo\\\\OneDrive\\\\Рабочий стол\\\\Git_repositories\\\\Data-science-cases\\\\Analytical-cases\\\\Shift+Enter_MTS\\\\DataAnalytic\\\\task1\\\\cities_regions.csv\")"
   ]
  },
  {
   "cell_type": "code",
   "execution_count": 4,
   "id": "b6f1d288",
   "metadata": {},
   "outputs": [],
   "source": [
    "cnum_d = pd.read_csv(\"C:\\\\Users\\\\Mr0Wo\\\\OneDrive\\\\Рабочий стол\\\\Git_repositories\\\\Data-science-cases\\\\Analytical-cases\\\\Shift+Enter_MTS\\\\DataAnalytic\\\\task1\\\\cnum_d.csv\")"
   ]
  },
  {
   "cell_type": "code",
   "execution_count": 5,
   "id": "8c3e7cc1",
   "metadata": {},
   "outputs": [],
   "source": [
    "geo_d = pd.read_csv(\"C:\\\\Users\\\\Mr0Wo\\\\OneDrive\\\\Рабочий стол\\\\Git_repositories\\\\Data-science-cases\\\\Analytical-cases\\\\Shift+Enter_MTS\\\\DataAnalytic\\\\task1\\\\geo_d.csv\")"
   ]
  },
  {
   "cell_type": "code",
   "execution_count": 6,
   "id": "688f1c0f",
   "metadata": {},
   "outputs": [],
   "source": [
    "host_d = pd.read_csv(\"C:\\\\Users\\\\Mr0Wo\\\\OneDrive\\\\Рабочий стол\\\\Git_repositories\\\\Data-science-cases\\\\Analytical-cases\\\\Shift+Enter_MTS\\\\DataAnalytic\\\\task1\\\\host_d.csv\")"
   ]
  },
  {
   "cell_type": "code",
   "execution_count": 7,
   "id": "970bfa01",
   "metadata": {},
   "outputs": [],
   "source": [
    "twogis_hosts = pd.read_csv(\"C:\\\\Users\\\\Mr0Wo\\\\OneDrive\\\\Рабочий стол\\\\Git_repositories\\\\Data-science-cases\\\\Analytical-cases\\\\Shift+Enter_MTS\\\\DataAnalytic\\\\task1\\\\twogis_hosts.csv\")"
   ]
  },
  {
   "cell_type": "code",
   "execution_count": 8,
   "id": "ad474103",
   "metadata": {},
   "outputs": [],
   "source": [
    "twogis_phones = pd.read_csv(\"C:\\\\Users\\\\Mr0Wo\\\\OneDrive\\\\Рабочий стол\\\\Git_repositories\\\\Data-science-cases\\\\Analytical-cases\\\\Shift+Enter_MTS\\\\DataAnalytic\\\\task1\\\\twogis_phones.csv\")"
   ]
  },
  {
   "cell_type": "markdown",
   "id": "666560f1",
   "metadata": {},
   "source": [
    "# Data"
   ]
  },
  {
   "cell_type": "code",
   "execution_count": 9,
   "id": "c2110f4d",
   "metadata": {},
   "outputs": [
    {
     "data": {
      "text/html": [
       "<div>\n",
       "<style scoped>\n",
       "    .dataframe tbody tr th:only-of-type {\n",
       "        vertical-align: middle;\n",
       "    }\n",
       "\n",
       "    .dataframe tbody tr th {\n",
       "        vertical-align: top;\n",
       "    }\n",
       "\n",
       "    .dataframe thead th {\n",
       "        text-align: right;\n",
       "    }\n",
       "</style>\n",
       "<table border=\"1\" class=\"dataframe\">\n",
       "  <thead>\n",
       "    <tr style=\"text-align: right;\">\n",
       "      <th></th>\n",
       "      <th>geo_area_key</th>\n",
       "      <th>city_name</th>\n",
       "      <th>region</th>\n",
       "      <th>city_area</th>\n",
       "    </tr>\n",
       "  </thead>\n",
       "  <tbody>\n",
       "    <tr>\n",
       "      <th>0</th>\n",
       "      <td>86386033426</td>\n",
       "      <td>Москва</td>\n",
       "      <td>Москва</td>\n",
       "      <td>Медведково</td>\n",
       "    </tr>\n",
       "    <tr>\n",
       "      <th>1</th>\n",
       "      <td>86125986808</td>\n",
       "      <td>Москва</td>\n",
       "      <td>Москва</td>\n",
       "      <td>Царицыно</td>\n",
       "    </tr>\n",
       "    <tr>\n",
       "      <th>2</th>\n",
       "      <td>85685581132</td>\n",
       "      <td>Москва</td>\n",
       "      <td>Москва</td>\n",
       "      <td>Медведково</td>\n",
       "    </tr>\n",
       "    <tr>\n",
       "      <th>3</th>\n",
       "      <td>86348284631</td>\n",
       "      <td>Москва</td>\n",
       "      <td>Москва</td>\n",
       "      <td>Измайлово</td>\n",
       "    </tr>\n",
       "    <tr>\n",
       "      <th>4</th>\n",
       "      <td>85949821575</td>\n",
       "      <td>Москва</td>\n",
       "      <td>Москва</td>\n",
       "      <td>Бабушкинский</td>\n",
       "    </tr>\n",
       "  </tbody>\n",
       "</table>\n",
       "</div>"
      ],
      "text/plain": [
       "   geo_area_key city_name  region     city_area\n",
       "0   86386033426    Москва  Москва    Медведково\n",
       "1   86125986808    Москва  Москва      Царицыно\n",
       "2   85685581132    Москва  Москва    Медведково\n",
       "3   86348284631    Москва  Москва     Измайлово\n",
       "4   85949821575    Москва  Москва  Бабушкинский"
      ]
     },
     "execution_count": 9,
     "metadata": {},
     "output_type": "execute_result"
    }
   ],
   "source": [
    "cities_regions.head()"
   ]
  },
  {
   "cell_type": "code",
   "execution_count": 10,
   "id": "20d0558e",
   "metadata": {},
   "outputs": [
    {
     "data": {
      "text/html": [
       "<div>\n",
       "<style scoped>\n",
       "    .dataframe tbody tr th:only-of-type {\n",
       "        vertical-align: middle;\n",
       "    }\n",
       "\n",
       "    .dataframe tbody tr th {\n",
       "        vertical-align: top;\n",
       "    }\n",
       "\n",
       "    .dataframe thead th {\n",
       "        text-align: right;\n",
       "    }\n",
       "</style>\n",
       "<table border=\"1\" class=\"dataframe\">\n",
       "  <thead>\n",
       "    <tr style=\"text-align: right;\">\n",
       "      <th></th>\n",
       "      <th>msisdn</th>\n",
       "      <th>ts</th>\n",
       "      <th>called_party_number</th>\n",
       "      <th>call_type</th>\n",
       "      <th>direction</th>\n",
       "    </tr>\n",
       "  </thead>\n",
       "  <tbody>\n",
       "    <tr>\n",
       "      <th>0</th>\n",
       "      <td>565cf6bccddd71d0e381358f96a5743e</td>\n",
       "      <td>2022-07-19 02:01:05</td>\n",
       "      <td>900</td>\n",
       "      <td>2</td>\n",
       "      <td>I</td>\n",
       "    </tr>\n",
       "    <tr>\n",
       "      <th>1</th>\n",
       "      <td>565cf6bccddd71d0e381358f96a5743e</td>\n",
       "      <td>2022-04-09 07:47:58</td>\n",
       "      <td>79181326867</td>\n",
       "      <td>1</td>\n",
       "      <td>O</td>\n",
       "    </tr>\n",
       "    <tr>\n",
       "      <th>2</th>\n",
       "      <td>565cf6bccddd71d0e381358f96a5743e</td>\n",
       "      <td>2022-03-06 08:27:19</td>\n",
       "      <td>79892953676</td>\n",
       "      <td>1</td>\n",
       "      <td>I</td>\n",
       "    </tr>\n",
       "    <tr>\n",
       "      <th>3</th>\n",
       "      <td>565cf6bccddd71d0e381358f96a5743e</td>\n",
       "      <td>2022-11-18 12:48:22</td>\n",
       "      <td>79181846285</td>\n",
       "      <td>1</td>\n",
       "      <td>I</td>\n",
       "    </tr>\n",
       "    <tr>\n",
       "      <th>4</th>\n",
       "      <td>565cf6bccddd71d0e381358f96a5743e</td>\n",
       "      <td>2022-07-17 10:48:34</td>\n",
       "      <td>79180152465</td>\n",
       "      <td>1</td>\n",
       "      <td>I</td>\n",
       "    </tr>\n",
       "  </tbody>\n",
       "</table>\n",
       "</div>"
      ],
      "text/plain": [
       "                             msisdn                   ts called_party_number  \\\n",
       "0  565cf6bccddd71d0e381358f96a5743e  2022-07-19 02:01:05                 900   \n",
       "1  565cf6bccddd71d0e381358f96a5743e  2022-04-09 07:47:58         79181326867   \n",
       "2  565cf6bccddd71d0e381358f96a5743e  2022-03-06 08:27:19         79892953676   \n",
       "3  565cf6bccddd71d0e381358f96a5743e  2022-11-18 12:48:22         79181846285   \n",
       "4  565cf6bccddd71d0e381358f96a5743e  2022-07-17 10:48:34         79180152465   \n",
       "\n",
       "   call_type direction  \n",
       "0          2         I  \n",
       "1          1         O  \n",
       "2          1         I  \n",
       "3          1         I  \n",
       "4          1         I  "
      ]
     },
     "execution_count": 10,
     "metadata": {},
     "output_type": "execute_result"
    }
   ],
   "source": [
    "cnum_d.head()"
   ]
  },
  {
   "cell_type": "code",
   "execution_count": 11,
   "id": "d078be73",
   "metadata": {},
   "outputs": [
    {
     "data": {
      "text/html": [
       "<div>\n",
       "<style scoped>\n",
       "    .dataframe tbody tr th:only-of-type {\n",
       "        vertical-align: middle;\n",
       "    }\n",
       "\n",
       "    .dataframe tbody tr th {\n",
       "        vertical-align: top;\n",
       "    }\n",
       "\n",
       "    .dataframe thead th {\n",
       "        text-align: right;\n",
       "    }\n",
       "</style>\n",
       "<table border=\"1\" class=\"dataframe\">\n",
       "  <thead>\n",
       "    <tr style=\"text-align: right;\">\n",
       "      <th></th>\n",
       "      <th>msisdn</th>\n",
       "      <th>ts</th>\n",
       "      <th>geo_area_key</th>\n",
       "    </tr>\n",
       "  </thead>\n",
       "  <tbody>\n",
       "    <tr>\n",
       "      <th>0</th>\n",
       "      <td>5fb9cedebecd39fc7886126b2a20d819</td>\n",
       "      <td>2022-02-03 00:53:00</td>\n",
       "      <td>87283601419</td>\n",
       "    </tr>\n",
       "    <tr>\n",
       "      <th>1</th>\n",
       "      <td>5fb9cedebecd39fc7886126b2a20d819</td>\n",
       "      <td>2022-07-22 11:02:29</td>\n",
       "      <td>87283601419</td>\n",
       "    </tr>\n",
       "    <tr>\n",
       "      <th>2</th>\n",
       "      <td>f1f96cd7405b19396660b1a650e476ba</td>\n",
       "      <td>2022-02-05 09:21:01</td>\n",
       "      <td>87283601419</td>\n",
       "    </tr>\n",
       "    <tr>\n",
       "      <th>3</th>\n",
       "      <td>c46b509b519c69946d20fde5b108e5ef</td>\n",
       "      <td>2022-12-12 01:32:07</td>\n",
       "      <td>87283601419</td>\n",
       "    </tr>\n",
       "    <tr>\n",
       "      <th>4</th>\n",
       "      <td>2f395ff20634c956f112b98a8e0dffbb</td>\n",
       "      <td>2022-09-22 06:55:39</td>\n",
       "      <td>87283601419</td>\n",
       "    </tr>\n",
       "  </tbody>\n",
       "</table>\n",
       "</div>"
      ],
      "text/plain": [
       "                             msisdn                   ts  geo_area_key\n",
       "0  5fb9cedebecd39fc7886126b2a20d819  2022-02-03 00:53:00   87283601419\n",
       "1  5fb9cedebecd39fc7886126b2a20d819  2022-07-22 11:02:29   87283601419\n",
       "2  f1f96cd7405b19396660b1a650e476ba  2022-02-05 09:21:01   87283601419\n",
       "3  c46b509b519c69946d20fde5b108e5ef  2022-12-12 01:32:07   87283601419\n",
       "4  2f395ff20634c956f112b98a8e0dffbb  2022-09-22 06:55:39   87283601419"
      ]
     },
     "execution_count": 11,
     "metadata": {},
     "output_type": "execute_result"
    }
   ],
   "source": [
    "geo_d.head()"
   ]
  },
  {
   "cell_type": "code",
   "execution_count": 12,
   "id": "c127328c",
   "metadata": {},
   "outputs": [
    {
     "data": {
      "text/html": [
       "<div>\n",
       "<style scoped>\n",
       "    .dataframe tbody tr th:only-of-type {\n",
       "        vertical-align: middle;\n",
       "    }\n",
       "\n",
       "    .dataframe tbody tr th {\n",
       "        vertical-align: top;\n",
       "    }\n",
       "\n",
       "    .dataframe thead th {\n",
       "        text-align: right;\n",
       "    }\n",
       "</style>\n",
       "<table border=\"1\" class=\"dataframe\">\n",
       "  <thead>\n",
       "    <tr style=\"text-align: right;\">\n",
       "      <th></th>\n",
       "      <th>msisdn</th>\n",
       "      <th>ts</th>\n",
       "      <th>host</th>\n",
       "    </tr>\n",
       "  </thead>\n",
       "  <tbody>\n",
       "    <tr>\n",
       "      <th>0</th>\n",
       "      <td>3ae06583aa2560b723ae06583aaf619f</td>\n",
       "      <td>2022-06-18 01:16:12</td>\n",
       "      <td>hwid.platform.dbankcloud.ru</td>\n",
       "    </tr>\n",
       "    <tr>\n",
       "      <th>1</th>\n",
       "      <td>3ae06583aa2560b723ae06583aaf619f</td>\n",
       "      <td>2022-02-26 04:02:46</td>\n",
       "      <td>assets.applovin.com</td>\n",
       "    </tr>\n",
       "    <tr>\n",
       "      <th>2</th>\n",
       "      <td>3ae06583aa2560b723ae06583aaf619f</td>\n",
       "      <td>2022-08-23 05:21:01</td>\n",
       "      <td>uc-drru.hispace.dbankcloud.ru</td>\n",
       "    </tr>\n",
       "    <tr>\n",
       "      <th>3</th>\n",
       "      <td>3ae06583aa2560b723ae06583aaf619f</td>\n",
       "      <td>2022-08-22 06:38:31</td>\n",
       "      <td>masters-masters.ru</td>\n",
       "    </tr>\n",
       "    <tr>\n",
       "      <th>4</th>\n",
       "      <td>3ae06583aa2560b723ae06583aaf619f</td>\n",
       "      <td>2022-08-24 05:02:32</td>\n",
       "      <td>gnpfesdk-pa.googleapis.com</td>\n",
       "    </tr>\n",
       "  </tbody>\n",
       "</table>\n",
       "</div>"
      ],
      "text/plain": [
       "                             msisdn                   ts  \\\n",
       "0  3ae06583aa2560b723ae06583aaf619f  2022-06-18 01:16:12   \n",
       "1  3ae06583aa2560b723ae06583aaf619f  2022-02-26 04:02:46   \n",
       "2  3ae06583aa2560b723ae06583aaf619f  2022-08-23 05:21:01   \n",
       "3  3ae06583aa2560b723ae06583aaf619f  2022-08-22 06:38:31   \n",
       "4  3ae06583aa2560b723ae06583aaf619f  2022-08-24 05:02:32   \n",
       "\n",
       "                            host  \n",
       "0    hwid.platform.dbankcloud.ru  \n",
       "1            assets.applovin.com  \n",
       "2  uc-drru.hispace.dbankcloud.ru  \n",
       "3             masters-masters.ru  \n",
       "4     gnpfesdk-pa.googleapis.com  "
      ]
     },
     "execution_count": 12,
     "metadata": {},
     "output_type": "execute_result"
    }
   ],
   "source": [
    "host_d.head()"
   ]
  },
  {
   "cell_type": "code",
   "execution_count": 13,
   "id": "99ec3bfe",
   "metadata": {},
   "outputs": [
    {
     "data": {
      "text/html": [
       "<div>\n",
       "<style scoped>\n",
       "    .dataframe tbody tr th:only-of-type {\n",
       "        vertical-align: middle;\n",
       "    }\n",
       "\n",
       "    .dataframe tbody tr th {\n",
       "        vertical-align: top;\n",
       "    }\n",
       "\n",
       "    .dataframe thead th {\n",
       "        text-align: right;\n",
       "    }\n",
       "</style>\n",
       "<table border=\"1\" class=\"dataframe\">\n",
       "  <thead>\n",
       "    <tr style=\"text-align: right;\">\n",
       "      <th></th>\n",
       "      <th>rubric</th>\n",
       "      <th>host_name</th>\n",
       "      <th>organization_name</th>\n",
       "    </tr>\n",
       "  </thead>\n",
       "  <tbody>\n",
       "    <tr>\n",
       "      <th>0</th>\n",
       "      <td>Новостройки</td>\n",
       "      <td>italian-quartal.com</td>\n",
       "      <td>Итальянский квартал, жилой комплекс, ООО ИНСИГ...</td>\n",
       "    </tr>\n",
       "    <tr>\n",
       "      <th>1</th>\n",
       "      <td>Оценка собственности</td>\n",
       "      <td>0-cenka.ru</td>\n",
       "      <td>0-ценка.ру</td>\n",
       "    </tr>\n",
       "    <tr>\n",
       "      <th>2</th>\n",
       "      <td>Детская одежда</td>\n",
       "      <td>0-childrens-store.business.site</td>\n",
       "      <td>0+, детский магазин</td>\n",
       "    </tr>\n",
       "    <tr>\n",
       "      <th>3</th>\n",
       "      <td>Безалкогольные напитки</td>\n",
       "      <td>0-drink.store</td>\n",
       "      <td>0-drink.store, интернет-магазин</td>\n",
       "    </tr>\n",
       "    <tr>\n",
       "      <th>4</th>\n",
       "      <td>Автомобили</td>\n",
       "      <td>0.bnmotors.ru</td>\n",
       "      <td>NaN</td>\n",
       "    </tr>\n",
       "  </tbody>\n",
       "</table>\n",
       "</div>"
      ],
      "text/plain": [
       "                   rubric                        host_name  \\\n",
       "0             Новостройки              italian-quartal.com   \n",
       "1    Оценка собственности                       0-cenka.ru   \n",
       "2          Детская одежда  0-childrens-store.business.site   \n",
       "3  Безалкогольные напитки                    0-drink.store   \n",
       "4              Автомобили                    0.bnmotors.ru   \n",
       "\n",
       "                                   organization_name  \n",
       "0  Итальянский квартал, жилой комплекс, ООО ИНСИГ...  \n",
       "1                                         0-ценка.ру  \n",
       "2                                0+, детский магазин  \n",
       "3                    0-drink.store, интернет-магазин  \n",
       "4                                                NaN  "
      ]
     },
     "execution_count": 13,
     "metadata": {},
     "output_type": "execute_result"
    }
   ],
   "source": [
    "twogis_hosts.head()"
   ]
  },
  {
   "cell_type": "code",
   "execution_count": 14,
   "id": "d7bc293e",
   "metadata": {},
   "outputs": [
    {
     "data": {
      "text/html": [
       "<div>\n",
       "<style scoped>\n",
       "    .dataframe tbody tr th:only-of-type {\n",
       "        vertical-align: middle;\n",
       "    }\n",
       "\n",
       "    .dataframe tbody tr th {\n",
       "        vertical-align: top;\n",
       "    }\n",
       "\n",
       "    .dataframe thead th {\n",
       "        text-align: right;\n",
       "    }\n",
       "</style>\n",
       "<table border=\"1\" class=\"dataframe\">\n",
       "  <thead>\n",
       "    <tr style=\"text-align: right;\">\n",
       "      <th></th>\n",
       "      <th>rubric</th>\n",
       "      <th>phone_num</th>\n",
       "      <th>organization_name</th>\n",
       "    </tr>\n",
       "  </thead>\n",
       "  <tbody>\n",
       "    <tr>\n",
       "      <th>0</th>\n",
       "      <td>Памятники / Надгробия</td>\n",
       "      <td>3422021066</td>\n",
       "      <td>Память, ритуальное агентство</td>\n",
       "    </tr>\n",
       "    <tr>\n",
       "      <th>1</th>\n",
       "      <td>Юридические услуги</td>\n",
       "      <td>3422021070</td>\n",
       "      <td>Томилов, Трутнев Групп, ООО, юридическая компания</td>\n",
       "    </tr>\n",
       "    <tr>\n",
       "      <th>2</th>\n",
       "      <td>Заказ автобусов</td>\n",
       "      <td>3422021082</td>\n",
       "      <td>АТЛАНТ ВОЯЖ, служба заказа автобусов</td>\n",
       "    </tr>\n",
       "    <tr>\n",
       "      <th>3</th>\n",
       "      <td>Продажа земельных участков / малоэтажных домов</td>\n",
       "      <td>3422021088</td>\n",
       "      <td>Болдино Вилладж, компания по продаже земельных...</td>\n",
       "    </tr>\n",
       "    <tr>\n",
       "      <th>4</th>\n",
       "      <td>Доставка готовых блюд</td>\n",
       "      <td>3422021100</td>\n",
       "      <td>Diesel room, городское кафе</td>\n",
       "    </tr>\n",
       "  </tbody>\n",
       "</table>\n",
       "</div>"
      ],
      "text/plain": [
       "                                           rubric   phone_num  \\\n",
       "0                           Памятники / Надгробия  3422021066   \n",
       "1                              Юридические услуги  3422021070   \n",
       "2                                 Заказ автобусов  3422021082   \n",
       "3  Продажа земельных участков / малоэтажных домов  3422021088   \n",
       "4                           Доставка готовых блюд  3422021100   \n",
       "\n",
       "                                   organization_name  \n",
       "0                       Память, ритуальное агентство  \n",
       "1  Томилов, Трутнев Групп, ООО, юридическая компания  \n",
       "2               АТЛАНТ ВОЯЖ, служба заказа автобусов  \n",
       "3  Болдино Вилладж, компания по продаже земельных...  \n",
       "4                        Diesel room, городское кафе  "
      ]
     },
     "execution_count": 14,
     "metadata": {},
     "output_type": "execute_result"
    }
   ],
   "source": [
    "twogis_phones.head()"
   ]
  },
  {
   "cell_type": "markdown",
   "id": "5e1af2bc",
   "metadata": {},
   "source": [
    "# Task"
   ]
  },
  {
   "cell_type": "markdown",
   "id": "331e86a6",
   "metadata": {},
   "source": [
    "Например, ее планирует использовать индивидуальный  \n",
    "предприниматель, только что открывший кофейню по адресу г. Тверь, ул. Трёхсвятская,  \n",
    "д.3, который хочет привлечь как можно больше новых посетителей из числа абонентов МТС.  \n",
    "Твоя задача - использовать данные, которые у нас имеются, чтобы:  \n",
    "● Описать алгоритм, который позволит ему собрать сегмент абонентов.  \n",
    "● Предложить наиболее подходящий способ привлечения новых клиентов.  "
   ]
  },
  {
   "cell_type": "markdown",
   "id": "5ca6d63f",
   "metadata": {},
   "source": [
    "Очевидно, что наш таргет - абоненты, которые могут быть заинтересованы в посещении кафе, расположенного по адресу г. Тверь, ул. Трёхсвятская,\n",
    "д.3"
   ]
  },
  {
   "cell_type": "markdown",
   "id": "68efb2bd",
   "metadata": {},
   "source": [
    "Интересующие нас клиенты должны удовлетворять некоторым условиям:\n",
    "1. Были исходящие звонки в кофейни, булочные и подобные заведения\n",
    "2. Были посещения сайтов этой же категории \n",
    "3. Абоненты должны находиться рядом с интересующей нас кофейней"
   ]
  },
  {
   "cell_type": "markdown",
   "id": "76b95c1c",
   "metadata": {},
   "source": [
    "# PandasWay"
   ]
  },
  {
   "cell_type": "markdown",
   "id": "9be81c26",
   "metadata": {},
   "source": [
    "Заметим, что ул. Трёхсвятская, д.3 находится в центральном районе Твери"
   ]
  },
  {
   "cell_type": "code",
   "execution_count": 15,
   "id": "4e19312a",
   "metadata": {},
   "outputs": [],
   "source": [
    "# Получили коды интересующей нас локации\n",
    "Tver_code = cities_regions.loc[(cities_regions['city_name'] == 'Тверь') & (cities_regions['city_area'] == 'Центральный')]['geo_area_key']"
   ]
  },
  {
   "cell_type": "code",
   "execution_count": 16,
   "id": "c424c62f",
   "metadata": {},
   "outputs": [],
   "source": [
    "cofe_rubric = ['Кофейни', 'Кафе', 'Пекарни', 'Пекарная', 'Булочные', 'Булочная']"
   ]
  },
  {
   "cell_type": "code",
   "execution_count": 17,
   "id": "809dbf69",
   "metadata": {},
   "outputs": [],
   "source": [
    "# Получили телефоны интересующего нас сегмента\n",
    "cofe_phones = twogis_phones.loc[twogis_phones['rubric'].isin(cofe_rubric)]['phone_num']"
   ]
  },
  {
   "cell_type": "code",
   "execution_count": 18,
   "id": "d76b33c4",
   "metadata": {},
   "outputs": [],
   "source": [
    "# Получили хоcты нашего сегмента\n",
    "code_hosts = twogis_hosts.loc[twogis_hosts['rubric'].isin(cofe_rubric)]['host_name']"
   ]
  },
  {
   "cell_type": "code",
   "execution_count": 19,
   "id": "1f44325e",
   "metadata": {},
   "outputs": [],
   "source": [
    "# Получили id абонентов, находящихся возле нашей кофейни\n",
    "users_geo = geo_d.loc[geo_d['geo_area_key'].isin(Tver_code)]['msisdn'].unique()"
   ]
  },
  {
   "cell_type": "code",
   "execution_count": 49,
   "id": "929a1705",
   "metadata": {},
   "outputs": [],
   "source": [
    "# Получили id абонентов, звонивших в кофейни\n",
    "users_phone = pd.Series(cnum_d.loc[(cnum_d['called_party_number'].isin(cofe_phones)) & (cnum_d['direction'] == 'O')]['msisdn'].unique(),name='msisdn')"
   ]
  },
  {
   "cell_type": "code",
   "execution_count": 50,
   "id": "78d277be",
   "metadata": {},
   "outputs": [],
   "source": [
    "# Получили id абонентов, которые посещали хосты интересующего нас сегмента\n",
    "users_host = pd.Series(host_d.loc[host_d['host'].isin(code_hosts)]['msisdn'].unique(), name='msisdn')"
   ]
  },
  {
   "cell_type": "code",
   "execution_count": 53,
   "id": "cfacc28f",
   "metadata": {},
   "outputs": [],
   "source": [
    "# Создали датафрейм, в котором помещены id абонентов, которые находятся рядом с ул. Трёхсвятская, д.3\n",
    "users = pd.DataFrame(pd.Series(users_geo)).rename(columns={0:'msisdn'})"
   ]
  },
  {
   "cell_type": "code",
   "execution_count": 54,
   "id": "9a23bc7e",
   "metadata": {},
   "outputs": [
    {
     "data": {
      "text/html": [
       "<div>\n",
       "<style scoped>\n",
       "    .dataframe tbody tr th:only-of-type {\n",
       "        vertical-align: middle;\n",
       "    }\n",
       "\n",
       "    .dataframe tbody tr th {\n",
       "        vertical-align: top;\n",
       "    }\n",
       "\n",
       "    .dataframe thead th {\n",
       "        text-align: right;\n",
       "    }\n",
       "</style>\n",
       "<table border=\"1\" class=\"dataframe\">\n",
       "  <thead>\n",
       "    <tr style=\"text-align: right;\">\n",
       "      <th></th>\n",
       "      <th>msisdn</th>\n",
       "    </tr>\n",
       "  </thead>\n",
       "  <tbody>\n",
       "  </tbody>\n",
       "</table>\n",
       "</div>"
      ],
      "text/plain": [
       "Empty DataFrame\n",
       "Columns: [msisdn]\n",
       "Index: []"
      ]
     },
     "execution_count": 54,
     "metadata": {},
     "output_type": "execute_result"
    }
   ],
   "source": [
    "# Объеденяем абонентов, чтобы они соответсвовали всем 3 нашим условиям, описаным ранее\n",
    "users.merge(users_host).merge(users_phone)"
   ]
  },
  {
   "cell_type": "markdown",
   "id": "b60c6c58",
   "metadata": {},
   "source": [
    "# SQLWay"
   ]
  },
  {
   "cell_type": "code",
   "execution_count": 32,
   "id": "ea3cd319",
   "metadata": {},
   "outputs": [],
   "source": [
    "q = \"\"\"\n",
    "WITH geo_users AS \n",
    "(SELECT DISTINCT msisdn\n",
    "FROM geo_d\n",
    "JOIN cities_regions\n",
    "ON cities_regions.geo_area_key = geo_d.geo_area_key\n",
    "WHERE cities_regions.city_area LIKE 'Центральный' AND cities_regions.city_name LIKE 'Тверь'),\n",
    "\n",
    "phone_host_users AS \n",
    "( SELECT DISTINCT cnum_d.msisdn\n",
    "  FROM cnum_d\n",
    "  WHERE cnum_d.called_party_number IN (\n",
    "  SELECT phone_num FROM twogis_phones WHERE twogis_phones.rubric IN ('Кофейни', 'Кафе', 'Пекарни', 'Пекарная', 'Булочные', 'Булочная')\n",
    "  ) AND cnum_d.direction like 'O'\n",
    "  UNION\n",
    "  SELECT DISTINCT host_d.msisdn\n",
    "   FROM host_d\n",
    "   WHERE host_d.host IN (SELECT host_name FROM twogis_hosts WHERE twogis_hosts.rubric IN \n",
    "   ('Кофейни', 'Кафе', 'Пекарни', 'Пекарная', 'Булочные', 'Булочная')\n",
    "   )\n",
    ")\n",
    "\n",
    "\n",
    "SELECT geo_users.msisdn\n",
    "FROM geo_users\n",
    "JOIN phone_host_users\n",
    "ON phone_host_users.msisdn = geo_users.msisdn\n",
    "\"\"\""
   ]
  },
  {
   "cell_type": "code",
   "execution_count": 33,
   "id": "5efc8e19",
   "metadata": {},
   "outputs": [
    {
     "data": {
      "text/html": [
       "<div>\n",
       "<style scoped>\n",
       "    .dataframe tbody tr th:only-of-type {\n",
       "        vertical-align: middle;\n",
       "    }\n",
       "\n",
       "    .dataframe tbody tr th {\n",
       "        vertical-align: top;\n",
       "    }\n",
       "\n",
       "    .dataframe thead th {\n",
       "        text-align: right;\n",
       "    }\n",
       "</style>\n",
       "<table border=\"1\" class=\"dataframe\">\n",
       "  <thead>\n",
       "    <tr style=\"text-align: right;\">\n",
       "      <th></th>\n",
       "      <th>msisdn</th>\n",
       "    </tr>\n",
       "  </thead>\n",
       "  <tbody>\n",
       "  </tbody>\n",
       "</table>\n",
       "</div>"
      ],
      "text/plain": [
       "Empty DataFrame\n",
       "Columns: [msisdn]\n",
       "Index: []"
      ]
     },
     "execution_count": 33,
     "metadata": {},
     "output_type": "execute_result"
    }
   ],
   "source": [
    "sqldf(q)"
   ]
  },
  {
   "cell_type": "code",
   "execution_count": 55,
   "id": "f32f387b",
   "metadata": {},
   "outputs": [],
   "source": [
    "# Нет таких абонентов!"
   ]
  },
  {
   "cell_type": "markdown",
   "id": "7a007ab7",
   "metadata": {},
   "source": [
    "# Способы привлечь новую аудиторию\n",
    "### 1. Рассылка sms с уведомлением об открытии нового кафе и вручением персонального скидочного купона, в честь открытия\n",
    "### 2. Уведомление о проведении специальной акции: первым n зарегистрировавшимся пользователям m% постоянная скидка на всю продукцию \n",
    "### 3. Классические листовки, указатели, банеры, промоутеры и т.д.\n",
    "### 4. Расширение базы потенциальных клиентов: покупка/обмен информации о клиентах с другими компаниями\n",
    "### 5. Аккаунты в мессенджерах и соцсетях, например VK, TikTok и т.д. И привлечение клиентов через эти акаунты"
   ]
  },
  {
   "cell_type": "code",
   "execution_count": null,
   "id": "3fa50f65",
   "metadata": {},
   "outputs": [],
   "source": []
  }
 ],
 "metadata": {
  "kernelspec": {
   "display_name": "Python 3 (ipykernel)",
   "language": "python",
   "name": "python3"
  },
  "language_info": {
   "codemirror_mode": {
    "name": "ipython",
    "version": 3
   },
   "file_extension": ".py",
   "mimetype": "text/x-python",
   "name": "python",
   "nbconvert_exporter": "python",
   "pygments_lexer": "ipython3",
   "version": "3.10.12"
  }
 },
 "nbformat": 4,
 "nbformat_minor": 5
}
